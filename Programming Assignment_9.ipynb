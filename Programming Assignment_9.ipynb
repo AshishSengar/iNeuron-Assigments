{
 "cells": [
  {
   "cell_type": "markdown",
   "id": "47b9bb99",
   "metadata": {},
   "source": [
    "## Programming Assignment_9\n",
    "----------------"
   ]
  },
  {
   "cell_type": "markdown",
   "id": "c725f7a9",
   "metadata": {},
   "source": [
    "### 1. Write a Python program to check if the given number is a Disarium Number?"
   ]
  },
  {
   "cell_type": "code",
   "execution_count": 2,
   "id": "81145927",
   "metadata": {},
   "outputs": [
    {
     "name": "stdout",
     "output_type": "stream",
     "text": [
      "Enter a number to check if it is a Disarium number: 175\n",
      "175 is a Disarium number.\n"
     ]
    }
   ],
   "source": [
    "# Function to check if a number is a Disarium number\n",
    "def is_disarium_number(number):\n",
    "    num_str = str(number)\n",
    "    length = len(num_str)\n",
    "    \n",
    "    # Calculating the sum of digits each raised to the power of its position\n",
    "    digit_sum = sum(int(digit) ** (index + 1) for index, digit in enumerate(num_str))\n",
    "    \n",
    "    # Checking if the sum is equal to the original number\n",
    "    return digit_sum == number\n",
    "\n",
    "# Taking input from the user\n",
    "num = int(input(\"Enter a number to check if it is a Disarium number: \"))\n",
    "\n",
    "# Checking if the number is a Disarium number and displaying the result\n",
    "if is_disarium_number(num):\n",
    "    print(f\"{num} is a Disarium number.\")\n",
    "else:\n",
    "    print(f\"{num} is not a Disarium number.\")"
   ]
  },
  {
   "cell_type": "markdown",
   "id": "f0064401",
   "metadata": {},
   "source": [
    "### 2. Write a Python program to print all disarium numbers between 1 to 100?"
   ]
  },
  {
   "cell_type": "code",
   "execution_count": 3,
   "id": "e5ec5adf",
   "metadata": {},
   "outputs": [
    {
     "name": "stdout",
     "output_type": "stream",
     "text": [
      "Disarium numbers between 1 and 100:\n",
      "1\n",
      "2\n",
      "3\n",
      "4\n",
      "5\n",
      "6\n",
      "7\n",
      "8\n",
      "9\n",
      "89\n"
     ]
    }
   ],
   "source": [
    "# Function to check if a number is a Disarium number\n",
    "def is_disarium_number(number):\n",
    "    num_str = str(number)\n",
    "    length = len(num_str)\n",
    "    \n",
    "    # Calculating the sum of digits each raised to the power of its position\n",
    "    digit_sum = sum(int(digit) ** (index + 1) for index, digit in enumerate(num_str))\n",
    "    \n",
    "    # Checking if the sum is equal to the original number\n",
    "    return digit_sum == number\n",
    "\n",
    "# Finding and printing Disarium numbers between 1 and 100\n",
    "print(\"Disarium numbers between 1 and 100:\")\n",
    "for i in range(1, 101):\n",
    "    if is_disarium_number(i):\n",
    "        print(i)"
   ]
  },
  {
   "cell_type": "markdown",
   "id": "31df1e4a",
   "metadata": {},
   "source": [
    "### 3. Write a Python program to check if the given number is Happy Number?"
   ]
  },
  {
   "cell_type": "code",
   "execution_count": 4,
   "id": "f8bcd6ba",
   "metadata": {},
   "outputs": [
    {
     "name": "stdout",
     "output_type": "stream",
     "text": [
      "Enter a number to check if it is a Happy Number: 13\n",
      "13 is a Happy Number.\n"
     ]
    }
   ],
   "source": [
    "# Function to calculate the sum of squares of digits in a number\n",
    "def calculate_sum_of_squares(number):\n",
    "    return sum(int(digit) ** 2 for digit in str(number))\n",
    "\n",
    "# Function to check if a number is a Happy Number\n",
    "def is_happy_number(number):\n",
    "    seen_numbers = set()\n",
    "\n",
    "    while number != 1 and number not in seen_numbers:\n",
    "        seen_numbers.add(number)\n",
    "        number = calculate_sum_of_squares(number)\n",
    "\n",
    "    return number == 1\n",
    "\n",
    "# Taking input from the user\n",
    "num = int(input(\"Enter a number to check if it is a Happy Number: \"))\n",
    "\n",
    "# Checking if the number is a Happy Number and displaying the result\n",
    "if is_happy_number(num):\n",
    "    print(f\"{num} is a Happy Number.\")\n",
    "else:\n",
    "    print(f\"{num} is not a Happy Number.\")"
   ]
  },
  {
   "cell_type": "markdown",
   "id": "51b265e3",
   "metadata": {},
   "source": [
    "### 4. Write a Python program to print all happy numbers between 1 and 100?"
   ]
  },
  {
   "cell_type": "code",
   "execution_count": 5,
   "id": "4af81c6c",
   "metadata": {},
   "outputs": [
    {
     "name": "stdout",
     "output_type": "stream",
     "text": [
      "Happy Numbers between 1 and 100:\n",
      "1\n",
      "7\n",
      "10\n",
      "13\n",
      "19\n",
      "23\n",
      "28\n",
      "31\n",
      "32\n",
      "44\n",
      "49\n",
      "68\n",
      "70\n",
      "79\n",
      "82\n",
      "86\n",
      "91\n",
      "94\n",
      "97\n",
      "100\n"
     ]
    }
   ],
   "source": [
    "# Function to calculate the sum of squares of digits in a number\n",
    "def calculate_sum_of_squares(number):\n",
    "    return sum(int(digit) ** 2 for digit in str(number))\n",
    "\n",
    "# Function to check if a number is a Happy Number\n",
    "def is_happy_number(number):\n",
    "    seen_numbers = set()\n",
    "\n",
    "    while number != 1 and number not in seen_numbers:\n",
    "        seen_numbers.add(number)\n",
    "        number = calculate_sum_of_squares(number)\n",
    "\n",
    "    return number == 1\n",
    "\n",
    "# Finding and printing Happy Numbers between 1 and 100\n",
    "print(\"Happy Numbers between 1 and 100:\")\n",
    "for i in range(1, 101):\n",
    "    if is_happy_number(i):\n",
    "        print(i)"
   ]
  },
  {
   "cell_type": "markdown",
   "id": "6a190ee0",
   "metadata": {},
   "source": [
    "### 5. Write a Python program to determine whether the given number is a Harshad Number?"
   ]
  },
  {
   "cell_type": "code",
   "execution_count": 6,
   "id": "4e9f01f7",
   "metadata": {},
   "outputs": [
    {
     "name": "stdout",
     "output_type": "stream",
     "text": [
      "Enter a number to check if it is a Harshad Number: 24\n",
      "24 is a Harshad Number.\n"
     ]
    }
   ],
   "source": [
    "# Function to calculate the sum of digits in a number\n",
    "def calculate_sum_of_digits(number):\n",
    "    return sum(int(digit) for digit in str(number))\n",
    "\n",
    "# Function to check if a number is a Harshad Number\n",
    "def is_harshad_number(number):\n",
    "    sum_of_digits = calculate_sum_of_digits(number)\n",
    "    return number % sum_of_digits == 0\n",
    "\n",
    "# Taking input from the user\n",
    "num = int(input(\"Enter a number to check if it is a Harshad Number: \"))\n",
    "\n",
    "# Checking if the number is a Harshad Number and displaying the result\n",
    "if is_harshad_number(num):\n",
    "    print(f\"{num} is a Harshad Number.\")\n",
    "else:\n",
    "    print(f\"{num} is not a Harshad Number.\")"
   ]
  },
  {
   "cell_type": "markdown",
   "id": "7a7ea92e",
   "metadata": {},
   "source": [
    "### 6. Write a Python program to print all pronic numbers between 1 and 100?"
   ]
  },
  {
   "cell_type": "code",
   "execution_count": 7,
   "id": "f69e028f",
   "metadata": {},
   "outputs": [
    {
     "name": "stdout",
     "output_type": "stream",
     "text": [
      "Pronic Numbers between 1 and 100:\n",
      "2\n",
      "6\n",
      "12\n",
      "20\n",
      "30\n",
      "42\n",
      "56\n",
      "72\n",
      "90\n"
     ]
    }
   ],
   "source": [
    "# Function to check if a number is a pronic number\n",
    "def is_pronic_number(number):\n",
    "    for i in range(number + 1):\n",
    "        if i * (i + 1) == number:\n",
    "            return True\n",
    "    return False\n",
    "\n",
    "# Finding and printing pronic numbers between 1 and 100\n",
    "print(\"Pronic Numbers between 1 and 100:\")\n",
    "for i in range(1, 101):\n",
    "    if is_pronic_number(i):\n",
    "        print(i)"
   ]
  }
 ],
 "metadata": {
  "kernelspec": {
   "display_name": "Python 3",
   "language": "python",
   "name": "python3"
  },
  "language_info": {
   "codemirror_mode": {
    "name": "ipython",
    "version": 3
   },
   "file_extension": ".py",
   "mimetype": "text/x-python",
   "name": "python",
   "nbconvert_exporter": "python",
   "pygments_lexer": "ipython3",
   "version": "3.8.8"
  }
 },
 "nbformat": 4,
 "nbformat_minor": 5
}
