{
 "cells": [
  {
   "cell_type": "markdown",
   "id": "9bf47949",
   "metadata": {},
   "source": [
    "## Python Basic Programming Assignment - 14\n",
    "---------------------"
   ]
  },
  {
   "cell_type": "markdown",
   "id": "a8074819",
   "metadata": {},
   "source": [
    "### 1. Define a class with a generator which can iterate the numbers, which are divisible by 7, between a given range 0 and n."
   ]
  },
  {
   "cell_type": "code",
   "execution_count": 1,
   "id": "aea45bf7",
   "metadata": {},
   "outputs": [
    {
     "name": "stdout",
     "output_type": "stream",
     "text": [
      "Enter the upper limit (n): 100\n",
      "Numbers divisible by 7:\n",
      "0\n",
      "7\n",
      "14\n",
      "21\n",
      "28\n",
      "35\n",
      "42\n",
      "49\n",
      "56\n",
      "63\n",
      "70\n",
      "77\n",
      "84\n",
      "91\n",
      "98\n"
     ]
    }
   ],
   "source": [
    "class DivisibleBySevenGenerator:\n",
    "    def __init__(self, n):\n",
    "        self.n = n\n",
    "\n",
    "    def generate_numbers(self):\n",
    "        for num in range(self.n + 1):\n",
    "            if num % 7 == 0:\n",
    "                yield num\n",
    "\n",
    "# Example usage\n",
    "n = int(input(\"Enter the upper limit (n): \"))\n",
    "divisible_by_seven_gen = DivisibleBySevenGenerator(n)\n",
    "\n",
    "print(\"Numbers divisible by 7:\")\n",
    "for number in divisible_by_seven_gen.generate_numbers():\n",
    "    print(number)"
   ]
  },
  {
   "cell_type": "markdown",
   "id": "8127371b",
   "metadata": {},
   "source": [
    "\n",
    "### 2. Write a program to compute the frequency of the words from the input. The output should output after sorting the key alphanumerically."
   ]
  },
  {
   "cell_type": "code",
   "execution_count": 2,
   "id": "3018c35e",
   "metadata": {},
   "outputs": [
    {
     "name": "stdout",
     "output_type": "stream",
     "text": [
      "Enter a sentence: the quick brown fox jumps over the lazy dog the quick dog\n",
      "Word frequencies after sorting alphanumerically:\n",
      "brown: 1\n",
      "dog: 2\n",
      "fox: 1\n",
      "jumps: 1\n",
      "lazy: 1\n",
      "over: 1\n",
      "quick: 2\n",
      "the: 3\n"
     ]
    }
   ],
   "source": [
    "# Input sentence\n",
    "input_sentence = input(\"Enter a sentence: \")\n",
    "\n",
    "# Split the input into a list of words\n",
    "words_list = input_sentence.split()\n",
    "\n",
    "# Create a dictionary to store word frequencies\n",
    "word_frequency = {}\n",
    "\n",
    "# Count the frequency of each word\n",
    "for word in words_list:\n",
    "    word_frequency[word] = word_frequency.get(word, 0) + 1\n",
    "\n",
    "# Sort the dictionary by keys alphanumerically\n",
    "sorted_word_frequency = dict(sorted(word_frequency.items()))\n",
    "\n",
    "# Print the result\n",
    "print(\"Word frequencies after sorting alphanumerically:\")\n",
    "for word, frequency in sorted_word_frequency.items():\n",
    "    print(f\"{word}: {frequency}\")"
   ]
  },
  {
   "cell_type": "markdown",
   "id": "4e869c3c",
   "metadata": {},
   "source": [
    "\n",
    "### 3. Define a class Person and its two child classes: Male and Female. All classes have a method \"getGender\" which can print \"Male\" for Male class and \"Female\" for Female class."
   ]
  },
  {
   "cell_type": "code",
   "execution_count": 3,
   "id": "088325b2",
   "metadata": {},
   "outputs": [
    {
     "name": "stdout",
     "output_type": "stream",
     "text": [
      "Person's gender: Unknown Gender\n",
      "Male person's gender: Male\n",
      "Female person's gender: Female\n"
     ]
    }
   ],
   "source": [
    "class Person:\n",
    "    def getGender(self):\n",
    "        return \"Unknown Gender\"\n",
    "\n",
    "class Male(Person):\n",
    "    def getGender(self):\n",
    "        return \"Male\"\n",
    "\n",
    "class Female(Person):\n",
    "    def getGender(self):\n",
    "        return \"Female\"\n",
    "\n",
    "# Example usage\n",
    "person = Person()\n",
    "male_person = Male()\n",
    "female_person = Female()\n",
    "\n",
    "print(\"Person's gender:\", person.getGender())\n",
    "print(\"Male person's gender:\", male_person.getGender())\n",
    "print(\"Female person's gender:\", female_person.getGender())"
   ]
  },
  {
   "cell_type": "markdown",
   "id": "58b5940f",
   "metadata": {},
   "source": [
    "### 4. Please write a program to generate all sentences where subject is in [\"I\", \"You\"] and verb is in ['Play', \"Love\"] and the object is in [\"Hockey\",\"Football\"]."
   ]
  },
  {
   "cell_type": "code",
   "execution_count": 4,
   "id": "7d6ba569",
   "metadata": {},
   "outputs": [
    {
     "name": "stdout",
     "output_type": "stream",
     "text": [
      "I Play Hockey.\n",
      "I Play Football.\n",
      "I Love Hockey.\n",
      "I Love Football.\n",
      "You Play Hockey.\n",
      "You Play Football.\n",
      "You Love Hockey.\n",
      "You Love Football.\n"
     ]
    }
   ],
   "source": [
    "subjects = [\"I\", \"You\"]\n",
    "verbs = [\"Play\", \"Love\"]\n",
    "objects = [\"Hockey\", \"Football\"]\n",
    "\n",
    "# Generate all sentences\n",
    "sentences = []\n",
    "for subject in subjects:\n",
    "    for verb in verbs:\n",
    "        for obj in objects:\n",
    "            sentence = f\"{subject} {verb} {obj}.\"\n",
    "            sentences.append(sentence)\n",
    "\n",
    "# Print the generated sentences\n",
    "for sentence in sentences:\n",
    "    print(sentence)"
   ]
  },
  {
   "cell_type": "markdown",
   "id": "0ddf4f59",
   "metadata": {},
   "source": [
    "\n",
    "### 5. Please write a program to compress and decompress the string \"hello world!hello world!hello world!hello world!\""
   ]
  },
  {
   "cell_type": "code",
   "execution_count": 9,
   "id": "cf14d662",
   "metadata": {},
   "outputs": [
    {
     "name": "stdout",
     "output_type": "stream",
     "text": [
      "Original string: hello world!hello world!hello world!hello world!\n",
      "Compressed data: b'x\\x9c\\xcbH\\xcd\\xc9\\xc9W(\\xcf/\\xcaIQ\\xcc \\x82\\r\\x00\\xbd[\\x11\\xf5'\n",
      "Decompressed string: hello world!hello world!hello world!hello world!\n"
     ]
    }
   ],
   "source": [
    "import zlib\n",
    "\n",
    "def compress_string(input_string):\n",
    "    compressed_data = zlib.compress(input_string.encode('utf-8'))\n",
    "    return compressed_data\n",
    "\n",
    "def decompress_string(compressed_data):\n",
    "    decompressed_data = zlib.decompress(compressed_data)\n",
    "    return decompressed_data.decode('utf-8')\n",
    "\n",
    "# Input string\n",
    "input_string = \"hello world!hello world!hello world!hello world!\"\n",
    "\n",
    "# Compress the string\n",
    "compressed_data = compress_string(input_string)\n",
    "\n",
    "# Decompress the string\n",
    "decompressed_string = decompress_string(compressed_data)\n",
    "\n",
    "# Print the results\n",
    "print(\"Original string:\", input_string)\n",
    "print(\"Compressed data:\", compressed_data)\n",
    "print(\"Decompressed string:\", decompressed_string)"
   ]
  },
  {
   "cell_type": "markdown",
   "id": "2aeb595b",
   "metadata": {},
   "source": [
    "\n",
    "### 6. Please write a binary search function which searches an item in a sorted list. The function should return the index of element to be searched in the list."
   ]
  },
  {
   "cell_type": "code",
   "execution_count": 11,
   "id": "62e79f0e",
   "metadata": {},
   "outputs": [
    {
     "name": "stdout",
     "output_type": "stream",
     "text": [
      "Element 6 found at index 5.\n"
     ]
    }
   ],
   "source": [
    "def binary_search(arr, target):\n",
    "    low, high = 0, len(arr) - 1\n",
    "\n",
    "    while low <= high:\n",
    "        mid = (low + high) // 2\n",
    "        mid_val = arr[mid]\n",
    "\n",
    "        if mid_val == target:\n",
    "            return mid  # Found the target, return the index\n",
    "        elif mid_val < target:\n",
    "            low = mid + 1  # Search in the right half\n",
    "        else:\n",
    "            high = mid - 1  # Search in the left half\n",
    "\n",
    "    return -1  # Target not found in the list\n",
    "\n",
    "# Example usage\n",
    "sorted_list = [1, 2, 3, 4, 5, 6, 7, 8, 9, 10]\n",
    "target_element = 6\n",
    "\n",
    "result = binary_search(sorted_list, target_element)\n",
    "\n",
    "if result != -1:\n",
    "    print(f\"Element {target_element} found at index {result}.\")\n",
    "else:\n",
    "    print(f\"Element {target_element} not found in the list.\")"
   ]
  }
 ],
 "metadata": {
  "kernelspec": {
   "display_name": "Python 3",
   "language": "python",
   "name": "python3"
  },
  "language_info": {
   "codemirror_mode": {
    "name": "ipython",
    "version": 3
   },
   "file_extension": ".py",
   "mimetype": "text/x-python",
   "name": "python",
   "nbconvert_exporter": "python",
   "pygments_lexer": "ipython3",
   "version": "3.8.8"
  }
 },
 "nbformat": 4,
 "nbformat_minor": 5
}
