{
 "cells": [
  {
   "cell_type": "markdown",
   "id": "62fd0c8e",
   "metadata": {},
   "source": [
    "# Python Programming Basic Assignment 13"
   ]
  },
  {
   "cell_type": "markdown",
   "id": "ed4a3c0b",
   "metadata": {},
   "source": [
    "\n",
    "### 1. Write a program that calculates and prints the value according to the given formula:\n",
    "Q = Square root of [(2 C D)/H]\n",
    "\n",
    "Following are the fixed values of C and H:\n",
    "\n",
    "C is 50. H is 30.\n",
    "\n",
    "D is the variable whose values should be input to your program in a comma-separated sequence.\n",
    "\n",
    "Example\n",
    "\n",
    "Let us assume the following comma separated input sequence is given to the program:\n",
    "\n",
    "100,150,180\n",
    "\n",
    "The output of the program should be:\n",
    "\n",
    "18,22,24"
   ]
  },
  {
   "cell_type": "code",
   "execution_count": 2,
   "id": "83fbe2bf",
   "metadata": {},
   "outputs": [
    {
     "name": "stdout",
     "output_type": "stream",
     "text": [
      "Enter the comma-separated values of D: 100,150,180\n",
      "18,22,24\n"
     ]
    }
   ],
   "source": [
    "import math\n",
    "\n",
    "def calculate_Q(input_sequence):\n",
    "    # Fixed values of C and H\n",
    "    C = 50\n",
    "    H = 30\n",
    "    \n",
    "    # Split the input sequence into a list of values\n",
    "    values_of_D = [int(d) for d in input_sequence.split(',')]\n",
    "\n",
    "    # Calculate Q for each value of D\n",
    "    result = [int(math.sqrt((2 * C * d) / H)) for d in values_of_D]\n",
    "\n",
    "    return result\n",
    "\n",
    "# Input sequence\n",
    "input_sequence = input(\"Enter the comma-separated values of D: \")\n",
    "\n",
    "# Calculate and print the result\n",
    "result_values_of_Q = calculate_Q(input_sequence)\n",
    "print(','.join(map(str, result_values_of_Q)))"
   ]
  },
  {
   "cell_type": "markdown",
   "id": "ed37b6ed",
   "metadata": {},
   "source": [
    "### 2. Write a program which takes 2 digits, X,Y as input and generates a 2-dimensional array. The element value in the i-th row and j-th column of the array should be i*j."
   ]
  },
  {
   "cell_type": "code",
   "execution_count": 3,
   "id": "76891eac",
   "metadata": {},
   "outputs": [
    {
     "name": "stdout",
     "output_type": "stream",
     "text": [
      "Enter the number of rows (X): 3\n",
      "Enter the number of columns (Y): 2\n",
      "[0, 0]\n",
      "[0, 1]\n",
      "[0, 2]\n"
     ]
    }
   ],
   "source": [
    "def generate_2D_array(rows, columns):\n",
    "    # Create a 2D array with elements i*j for each position (i, j)\n",
    "    result_array = [[i * j for j in range(columns)] for i in range(rows)]\n",
    "\n",
    "    return result_array\n",
    "\n",
    "# Input values\n",
    "X = int(input(\"Enter the number of rows (X): \"))\n",
    "Y = int(input(\"Enter the number of columns (Y): \"))\n",
    "\n",
    "# Generate and print the 2D array\n",
    "result_array = generate_2D_array(X, Y)\n",
    "for row in result_array:\n",
    "    print(row)"
   ]
  },
  {
   "cell_type": "markdown",
   "id": "bc7f977b",
   "metadata": {},
   "source": [
    "### 3. Write a program that accepts a comma separated sequence of words as input and prints the words in a comma-separated sequence after sorting them alphabetically."
   ]
  },
  {
   "cell_type": "code",
   "execution_count": 4,
   "id": "fbd05f1c",
   "metadata": {},
   "outputs": [
    {
     "name": "stdout",
     "output_type": "stream",
     "text": [
      "Enter a comma-separated sequence of words: arun,mahesh,jitendra,rahul\n",
      "Sorted words: arun, jitendra, mahesh, rahul\n"
     ]
    }
   ],
   "source": [
    "# Input sequence of words\n",
    "input_sequence = input(\"Enter a comma-separated sequence of words: \")\n",
    "\n",
    "# Split the input into a list of words\n",
    "words_list = [word.strip() for word in input_sequence.split(',')]\n",
    "\n",
    "# Sort the list of words alphabetically\n",
    "sorted_words = sorted(words_list)\n",
    "\n",
    "# Print the sorted words in a comma-separated sequence\n",
    "result_sequence = ', '.join(sorted_words)\n",
    "print(\"Sorted words:\", result_sequence)"
   ]
  },
  {
   "cell_type": "markdown",
   "id": "171c3d90",
   "metadata": {},
   "source": [
    "### 4. Write a program that accepts a sequence of whitespace separated words as input and prints the words after removing all duplicate words and sorting them alphanumerically."
   ]
  },
  {
   "cell_type": "code",
   "execution_count": 5,
   "id": "0ed93d7e",
   "metadata": {},
   "outputs": [
    {
     "name": "stdout",
     "output_type": "stream",
     "text": [
      "Enter a sequence of whitespace-separated words: apple orange banana apple pear orange\n",
      "Words after removing duplicates and sorting: apple banana orange pear\n"
     ]
    }
   ],
   "source": [
    "# Input sequence of words\n",
    "input_sequence = input(\"Enter a sequence of whitespace-separated words: \")\n",
    "\n",
    "# Split the input into a list of words\n",
    "words_list = input_sequence.split()\n",
    "\n",
    "# Remove duplicates by converting the list to a set and back to a list\n",
    "unique_words = list(set(words_list))\n",
    "\n",
    "# Sort the list of unique words alphanumerically\n",
    "sorted_unique_words = sorted(unique_words)\n",
    "\n",
    "# Print the result\n",
    "result_sequence = ' '.join(sorted_unique_words)\n",
    "print(\"Words after removing duplicates and sorting:\", result_sequence)"
   ]
  },
  {
   "cell_type": "markdown",
   "id": "88d25c49",
   "metadata": {},
   "source": [
    "### 5. Write a program that accepts a sentence and calculate the number of letters and digits."
   ]
  },
  {
   "cell_type": "code",
   "execution_count": 6,
   "id": "034349f6",
   "metadata": {},
   "outputs": [
    {
     "name": "stdout",
     "output_type": "stream",
     "text": [
      "Enter a sentence: a quick brown fox jumps over the lazy dog\n",
      "Number of letters: 33\n",
      "Number of digits: 0\n"
     ]
    }
   ],
   "source": [
    "# Input sentence\n",
    "input_sentence = input(\"Enter a sentence: \")\n",
    "\n",
    "# Initialize counters\n",
    "num_letters = 0\n",
    "num_digits = 0\n",
    "\n",
    "# Iterate through each character in the sentence\n",
    "for char in input_sentence:\n",
    "    # Check if the character is a letter\n",
    "    if char.isalpha():\n",
    "        num_letters += 1\n",
    "    # Check if the character is a digit\n",
    "    elif char.isdigit():\n",
    "        num_digits += 1\n",
    "\n",
    "# Print the result\n",
    "print(f\"Number of letters: {num_letters}\")\n",
    "print(f\"Number of digits: {num_digits}\")"
   ]
  },
  {
   "cell_type": "markdown",
   "id": "9695c4ca",
   "metadata": {},
   "source": [
    "### 6. A website requires the users to input username and password to register. Write a program to check the validity of password input by users."
   ]
  },
  {
   "cell_type": "code",
   "execution_count": 8,
   "id": "5dd486af",
   "metadata": {},
   "outputs": [
    {
     "name": "stdout",
     "output_type": "stream",
     "text": [
      "Enter your username: Master\n",
      "Enter your password: Ashish@123\n",
      "Password is valid.\n"
     ]
    }
   ],
   "source": [
    "def is_valid_password(username, password):\n",
    "    # Check the length of the password\n",
    "    if len(password) < 8:\n",
    "        return False\n",
    "\n",
    "    # Check if the password contains at least one uppercase letter\n",
    "    if not any(char.isupper() for char in password):\n",
    "        return False\n",
    "\n",
    "    # Check if the password contains at least one lowercase letter\n",
    "    if not any(char.islower() for char in password):\n",
    "        return False\n",
    "\n",
    "    # Check if the password contains at least one digit\n",
    "    if not any(char.isdigit() for char in password):\n",
    "        return False\n",
    "\n",
    "    # Check if the password contains the username\n",
    "    if username.lower() in password.lower():\n",
    "        return False\n",
    "\n",
    "    # If all checks pass, the password is valid\n",
    "    return True\n",
    "\n",
    "# Example usage\n",
    "username = input(\"Enter your username: \")\n",
    "password = input(\"Enter your password: \")\n",
    "\n",
    "if is_valid_password(username, password):\n",
    "    print(\"Password is valid.\")\n",
    "else:\n",
    "    print(\"Password is invalid. Please follow the password requirements.\")"
   ]
  }
 ],
 "metadata": {
  "kernelspec": {
   "display_name": "Python 3",
   "language": "python",
   "name": "python3"
  },
  "language_info": {
   "codemirror_mode": {
    "name": "ipython",
    "version": 3
   },
   "file_extension": ".py",
   "mimetype": "text/x-python",
   "name": "python",
   "nbconvert_exporter": "python",
   "pygments_lexer": "ipython3",
   "version": "3.8.8"
  }
 },
 "nbformat": 4,
 "nbformat_minor": 5
}
