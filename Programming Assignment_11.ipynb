{
 "cells": [
  {
   "cell_type": "markdown",
   "id": "53c7e882",
   "metadata": {},
   "source": [
    "# Python Basic Programming Assignment 11\n",
    "--------------------"
   ]
  },
  {
   "cell_type": "markdown",
   "id": "051da140",
   "metadata": {},
   "source": [
    "### 1. Write a Python program to find words which are greater than given length k?"
   ]
  },
  {
   "cell_type": "code",
   "execution_count": 2,
   "id": "54795e56",
   "metadata": {},
   "outputs": [
    {
     "name": "stdout",
     "output_type": "stream",
     "text": [
      "Enter a string: the quick brown fox jumps over the lazy dog\n",
      "Enter the length 'k': 4\n",
      "Words greater than length 4: quick, brown, jumps\n"
     ]
    }
   ],
   "source": [
    "def find_words_greater_than_length(input_string, k):\n",
    "    words = input_string.split()\n",
    "    \n",
    "    # Filter words greater than length 'k'\n",
    "    result_words = [word for word in words if len(word) > k]\n",
    "    \n",
    "    return result_words\n",
    "\n",
    "# Input string\n",
    "input_string = input(\"Enter a string: \")\n",
    "\n",
    "# Length 'k'\n",
    "k = int(input(\"Enter the length 'k': \"))\n",
    "\n",
    "# Find words greater than length 'k'\n",
    "result = find_words_greater_than_length(input_string, k)\n",
    "\n",
    "# Print the result\n",
    "if result:\n",
    "    print(f\"Words greater than length {k}: {', '.join(result)}\")\n",
    "else:\n",
    "    print(f\"No words found greater than length {k}\")"
   ]
  },
  {
   "cell_type": "markdown",
   "id": "26719cbd",
   "metadata": {},
   "source": [
    "### 2. Write a Python program for removing i-th character from a string?"
   ]
  },
  {
   "cell_type": "code",
   "execution_count": 4,
   "id": "9d16e55d",
   "metadata": {},
   "outputs": [
    {
     "name": "stdout",
     "output_type": "stream",
     "text": [
      "Enter a string: the quick brown fox jumps over the lazy dog\n",
      "Enter the index to remove (0-based): 21\n",
      "Resulting string after removing character at index 21: the quick brown fox jmps over the lazy dog\n"
     ]
    }
   ],
   "source": [
    "def remove_ith_character(input_string, i):\n",
    "    # Check if i is a valid index\n",
    "    if 0 <= i < len(input_string):\n",
    "        # Remove i-th character\n",
    "        result_string = input_string[:i] + input_string[i+1:]\n",
    "        return result_string\n",
    "    else:\n",
    "        print(f\"Invalid index {i}. Please enter a valid index within the string length.\")\n",
    "        return None\n",
    "\n",
    "# Input string\n",
    "input_string = input(\"Enter a string: \")\n",
    "\n",
    "# Index to remove\n",
    "i = int(input(\"Enter the index to remove (0-based): \"))\n",
    "\n",
    "# Remove i-th character\n",
    "result = remove_ith_character(input_string, i)\n",
    "\n",
    "# Print the result\n",
    "if result is not None:\n",
    "    print(f\"Resulting string after removing character at index {i}: {result}\")"
   ]
  },
  {
   "cell_type": "markdown",
   "id": "51ae6b0f",
   "metadata": {},
   "source": [
    "### 3. Write a Python program to split and join a string?"
   ]
  },
  {
   "cell_type": "code",
   "execution_count": 5,
   "id": "cdcdbe2a",
   "metadata": {},
   "outputs": [
    {
     "name": "stdout",
     "output_type": "stream",
     "text": [
      "Enter a string: the quick brown fox jumps over the lazy dog\n",
      "Original string: the quick brown fox jumps over the lazy dog\n",
      "Resulting string after split and join: the quick brown fox jumps over the lazy dog\n"
     ]
    }
   ],
   "source": [
    "def split_and_join(input_string):\n",
    "    # Split the string into a list of words\n",
    "    words = input_string.split()\n",
    "\n",
    "    # Join the list of words into a single string using space as a separator\n",
    "    result_string = ' '.join(words)\n",
    "\n",
    "    return result_string\n",
    "\n",
    "# Input string\n",
    "input_string = input(\"Enter a string: \")\n",
    "\n",
    "# Split and join the string\n",
    "result = split_and_join(input_string)\n",
    "\n",
    "# Print the result\n",
    "print(f\"Original string: {input_string}\")\n",
    "print(f\"Resulting string after split and join: {result}\")"
   ]
  },
  {
   "cell_type": "markdown",
   "id": "59079fe1",
   "metadata": {},
   "source": [
    "### 4. Write a Python to check if a given string is binary string or not?"
   ]
  },
  {
   "cell_type": "code",
   "execution_count": 6,
   "id": "97847275",
   "metadata": {},
   "outputs": [
    {
     "name": "stdout",
     "output_type": "stream",
     "text": [
      "Enter a string: the quick brown fox jumps over the lazy dog\n",
      "the quick brown fox jumps over the lazy dog is not a binary string.\n"
     ]
    }
   ],
   "source": [
    "def is_binary_string(input_string):\n",
    "    # Set of valid binary digits\n",
    "    valid_binary_digits = {'0', '1'}\n",
    "\n",
    "    # Check if all characters in the string are valid binary digits\n",
    "    return all(char in valid_binary_digits for char in input_string)\n",
    "\n",
    "# Input string\n",
    "input_string = input(\"Enter a string: \")\n",
    "\n",
    "# Check if it is a binary string\n",
    "if is_binary_string(input_string):\n",
    "    print(f\"{input_string} is a binary string.\")\n",
    "else:\n",
    "    print(f\"{input_string} is not a binary string.\")"
   ]
  },
  {
   "cell_type": "markdown",
   "id": "4d6cf11a",
   "metadata": {},
   "source": [
    "### 5. Write a Python program to find uncommon words from two Strings?"
   ]
  },
  {
   "cell_type": "code",
   "execution_count": 7,
   "id": "49bbf565",
   "metadata": {},
   "outputs": [
    {
     "name": "stdout",
     "output_type": "stream",
     "text": [
      "Enter the first string: the quick brown fox jumps over the lazy dog\n",
      "Enter the second string: the quick brown fox jmps over the lazy dog\n",
      "Uncommon words: jmps, jumps\n"
     ]
    }
   ],
   "source": [
    "def find_uncommon_words(string1, string2):\n",
    "    # Split the strings into lists of words\n",
    "    words1 = set(string1.split())\n",
    "    words2 = set(string2.split())\n",
    "\n",
    "    # Find uncommon words\n",
    "    uncommon_words = words1.symmetric_difference(words2)\n",
    "\n",
    "    return uncommon_words\n",
    "\n",
    "# Input strings\n",
    "string1 = input(\"Enter the first string: \")\n",
    "string2 = input(\"Enter the second string: \")\n",
    "\n",
    "# Find uncommon words\n",
    "result = find_uncommon_words(string1, string2)\n",
    "\n",
    "# Print the result\n",
    "print(f\"Uncommon words: {', '.join(result)}\")"
   ]
  },
  {
   "cell_type": "markdown",
   "id": "e2b24677",
   "metadata": {},
   "source": [
    "### 6. Write a Python to find all duplicate characters in string?"
   ]
  },
  {
   "cell_type": "code",
   "execution_count": 8,
   "id": "ea678694",
   "metadata": {},
   "outputs": [
    {
     "name": "stdout",
     "output_type": "stream",
     "text": [
      "Enter a string: the quick brown fox jumps over the lazy dog\n",
      "Duplicate characters: o,  , e, h, r, u, t\n"
     ]
    }
   ],
   "source": [
    "def find_duplicate_characters(input_string):\n",
    "    # Create an empty set to store duplicate characters\n",
    "    duplicates = set()\n",
    "\n",
    "    # Create a set to store characters that have been seen\n",
    "    seen_characters = set()\n",
    "\n",
    "    # Iterate through each character in the string\n",
    "    for char in input_string:\n",
    "        # Check if the character has been seen before\n",
    "        if char in seen_characters:\n",
    "            # If yes, it is a duplicate, add to the duplicates set\n",
    "            duplicates.add(char)\n",
    "        else:\n",
    "            # If not, add it to the seen characters set\n",
    "            seen_characters.add(char)\n",
    "\n",
    "    return duplicates\n",
    "\n",
    "# Input string\n",
    "input_string = input(\"Enter a string: \")\n",
    "\n",
    "# Find duplicate characters\n",
    "result = find_duplicate_characters(input_string)\n",
    "\n",
    "# Print the result\n",
    "if result:\n",
    "    print(f\"Duplicate characters: {', '.join(result)}\")\n",
    "else:\n",
    "    print(\"No duplicate characters found.\")"
   ]
  },
  {
   "cell_type": "markdown",
   "id": "1a6af7e4",
   "metadata": {},
   "source": [
    "### 7. Write a Python Program to check if a string contains any special character?"
   ]
  },
  {
   "cell_type": "code",
   "execution_count": 9,
   "id": "97ce0cd9",
   "metadata": {},
   "outputs": [
    {
     "name": "stdout",
     "output_type": "stream",
     "text": [
      "Enter a string: the quick brown fox jumps over the l@zy dog\n",
      "The string 'the quick brown fox jumps over the l@zy dog' contains special character(s).\n"
     ]
    }
   ],
   "source": [
    "def contains_special_character(input_string):\n",
    "    # Define a set of special characters\n",
    "    special_characters = set(\"!@#$%^&*()-_=+[]{}|;:'\\\",.<>/?`~\")\n",
    "\n",
    "    # Check if any character in the string is a special character\n",
    "    return any(char in special_characters for char in input_string)\n",
    "\n",
    "# Input string\n",
    "input_string = input(\"Enter a string: \")\n",
    "\n",
    "# Check if the string contains any special character\n",
    "if contains_special_character(input_string):\n",
    "    print(f\"The string '{input_string}' contains special character(s).\")\n",
    "else:\n",
    "    print(f\"The string '{input_string}' does not contain any special characters.\")"
   ]
  }
 ],
 "metadata": {
  "kernelspec": {
   "display_name": "Python 3",
   "language": "python",
   "name": "python3"
  },
  "language_info": {
   "codemirror_mode": {
    "name": "ipython",
    "version": 3
   },
   "file_extension": ".py",
   "mimetype": "text/x-python",
   "name": "python",
   "nbconvert_exporter": "python",
   "pygments_lexer": "ipython3",
   "version": "3.8.8"
  }
 },
 "nbformat": 4,
 "nbformat_minor": 5
}
