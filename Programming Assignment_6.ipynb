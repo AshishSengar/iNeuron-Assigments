{
 "cells": [
  {
   "cell_type": "markdown",
   "id": "84a41a9f",
   "metadata": {},
   "source": [
    "# Programming Basic Assignment 6"
   ]
  },
  {
   "cell_type": "markdown",
   "id": "a4b40558",
   "metadata": {},
   "source": [
    "### 1. Write a Python Program to Display Fibonacci Sequence Using Recursion?"
   ]
  },
  {
   "cell_type": "code",
   "execution_count": 1,
   "id": "94839108",
   "metadata": {},
   "outputs": [
    {
     "name": "stdout",
     "output_type": "stream",
     "text": [
      "Enter the number of terms for the Fibonacci sequence: 8\n",
      "\n",
      "Fibonacci Sequence:\n",
      "[0, 1, 1, 2, 3, 5, 8, 13]\n"
     ]
    }
   ],
   "source": [
    "# Function to generate Fibonacci sequence using recursion\n",
    "def fibonacci_recursive(n):\n",
    "    if n <= 0:\n",
    "        return []\n",
    "    elif n == 1:\n",
    "        return [0]\n",
    "    elif n == 2:\n",
    "        return [0, 1]\n",
    "    else:\n",
    "        fib_sequence = fibonacci_recursive(n - 1)\n",
    "        fib_sequence.append(fib_sequence[-1] + fib_sequence[-2])\n",
    "        return fib_sequence\n",
    "\n",
    "# Taking input from the user\n",
    "terms = int(input(\"Enter the number of terms for the Fibonacci sequence: \"))\n",
    "\n",
    "# Displaying the Fibonacci sequence\n",
    "fibonacci_sequence = fibonacci_recursive(terms)\n",
    "print(\"\\nFibonacci Sequence:\")\n",
    "print(fibonacci_sequence)"
   ]
  },
  {
   "cell_type": "markdown",
   "id": "d7a57f60",
   "metadata": {},
   "source": [
    "### 2. Write a Python Program to Find Factorial of Number Using Recursion?"
   ]
  },
  {
   "cell_type": "code",
   "execution_count": 2,
   "id": "d4294b47",
   "metadata": {},
   "outputs": [
    {
     "name": "stdout",
     "output_type": "stream",
     "text": [
      "Enter a number to find its factorial: 8\n",
      "The factorial of 8 is: 40320\n"
     ]
    }
   ],
   "source": [
    "# Function to calculate factorial using recursion\n",
    "def factorial_recursive(n):\n",
    "    if n == 0 or n == 1:\n",
    "        return 1\n",
    "    else:\n",
    "        return n * factorial_recursive(n - 1)\n",
    "\n",
    "# Taking input from the user\n",
    "number = int(input(\"Enter a number to find its factorial: \"))\n",
    "\n",
    "# Checking if the entered number is non-negative\n",
    "if number < 0:\n",
    "    print(\"Factorial is not defined for negative numbers.\")\n",
    "else:\n",
    "    # Calculating and displaying the factorial\n",
    "    result = factorial_recursive(number)\n",
    "    print(f\"The factorial of {number} is: {result}\")"
   ]
  },
  {
   "cell_type": "markdown",
   "id": "0357b86f",
   "metadata": {},
   "source": [
    "### 3. Write a Python Program to calculate your Body Mass Index?"
   ]
  },
  {
   "cell_type": "code",
   "execution_count": 3,
   "id": "5c98cc71",
   "metadata": {},
   "outputs": [
    {
     "name": "stdout",
     "output_type": "stream",
     "text": [
      "Enter your weight in kilograms: 70\n",
      "Enter your height in meters: 1.70\n",
      "\n",
      "Your Body Mass Index (BMI) is: 24.221453287197235\n"
     ]
    }
   ],
   "source": [
    "# Function to calculate BMI\n",
    "def calculate_bmi(weight, height):\n",
    "    try:\n",
    "        # Checking if the entered values are positive\n",
    "        if weight <= 0 or height <= 0:\n",
    "            return \"Invalid input. Please enter positive values for weight and height.\"\n",
    "\n",
    "        # Calculating BMI\n",
    "        bmi = weight / (height ** 2)\n",
    "        return bmi\n",
    "    except ZeroDivisionError:\n",
    "        return \"Invalid input. Height should be a non-zero value.\"\n",
    "\n",
    "# Taking input from the user\n",
    "weight = float(input(\"Enter your weight in kilograms: \"))\n",
    "height = float(input(\"Enter your height in meters: \"))\n",
    "\n",
    "# Calculating and displaying the BMI\n",
    "bmi_result = calculate_bmi(weight, height)\n",
    "print(f\"\\nYour Body Mass Index (BMI) is: {bmi_result}\")"
   ]
  },
  {
   "cell_type": "markdown",
   "id": "96d344a4",
   "metadata": {},
   "source": [
    "### 4. Write a Python Program to calculate the natural logarithm of any number?"
   ]
  },
  {
   "cell_type": "code",
   "execution_count": 4,
   "id": "2f928479",
   "metadata": {},
   "outputs": [
    {
     "name": "stdout",
     "output_type": "stream",
     "text": [
      "Enter a number to calculate its natural logarithm: 154\n",
      "The natural logarithm of 154.0 is: 5.0369526024136295\n"
     ]
    }
   ],
   "source": [
    "import math\n",
    "\n",
    "# Taking input from the user\n",
    "number = float(input(\"Enter a number to calculate its natural logarithm: \"))\n",
    "\n",
    "# Checking if the entered value is positive\n",
    "if number <= 0:\n",
    "    print(\"Invalid input. Please enter a positive value.\")\n",
    "else:\n",
    "    # Calculating and displaying the natural logarithm\n",
    "    log_result = math.log(number)\n",
    "    print(f\"The natural logarithm of {number} is: {log_result}\")"
   ]
  },
  {
   "cell_type": "markdown",
   "id": "11c0d92c",
   "metadata": {},
   "source": [
    "\n",
    "### 5. Write a Python Program for cube sum of first n natural numbers?\n"
   ]
  },
  {
   "cell_type": "code",
   "execution_count": 5,
   "id": "30ec8499",
   "metadata": {},
   "outputs": [
    {
     "name": "stdout",
     "output_type": "stream",
     "text": [
      "Enter a positive integer (n) for cube sum calculation: 12\n",
      "The cube sum of the first 12 natural numbers is: 6084\n"
     ]
    }
   ],
   "source": [
    "# Function to calculate the cube sum of first n natural numbers\n",
    "def cube_sum(n):\n",
    "    return sum(i**3 for i in range(1, n+1))\n",
    "\n",
    "# Taking input from the user\n",
    "n = int(input(\"Enter a positive integer (n) for cube sum calculation: \"))\n",
    "\n",
    "# Checking if the entered number is positive\n",
    "if n <= 0:\n",
    "    print(\"Invalid input. Please enter a positive integer.\")\n",
    "else:\n",
    "    # Calculating and displaying the cube sum\n",
    "    result = cube_sum(n)\n",
    "    print(f\"The cube sum of the first {n} natural numbers is: {result}\")"
   ]
  }
 ],
 "metadata": {
  "kernelspec": {
   "display_name": "Python 3",
   "language": "python",
   "name": "python3"
  },
  "language_info": {
   "codemirror_mode": {
    "name": "ipython",
    "version": 3
   },
   "file_extension": ".py",
   "mimetype": "text/x-python",
   "name": "python",
   "nbconvert_exporter": "python",
   "pygments_lexer": "ipython3",
   "version": "3.8.8"
  }
 },
 "nbformat": 4,
 "nbformat_minor": 5
}
