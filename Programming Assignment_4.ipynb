{
 "cells": [
  {
   "cell_type": "markdown",
   "id": "20cb4340",
   "metadata": {
    "id": "20cb4340"
   },
   "source": [
    "## Programming Assignment_4\n",
    "----------------"
   ]
  },
  {
   "cell_type": "markdown",
   "id": "4fdb6695",
   "metadata": {
    "id": "4fdb6695"
   },
   "source": [
    "### 1. Write a Python Program to Find the Factorial of a Number?"
   ]
  },
  {
   "cell_type": "code",
   "execution_count": 2,
   "id": "hOeAnUwS8YPP",
   "metadata": {
    "id": "hOeAnUwS8YPP"
   },
   "outputs": [
    {
     "name": "stdout",
     "output_type": "stream",
     "text": [
      "Enter a number to find its factorial: 4\n",
      "The factorial of 4 is 24\n"
     ]
    }
   ],
   "source": [
    "# Taking input from the user\n",
    "number = int(input(\"Enter a number to find its factorial: \"))\n",
    "\n",
    "# Calculate the factorial\n",
    "factorial = 1\n",
    "if number < 0:\n",
    "    print(\"Factorial is not defined for negative numbers.\")\n",
    "elif number == 0:\n",
    "    print(\"The factorial of 0 is 1.\")\n",
    "else:\n",
    "    for i in range(1, number + 1):\n",
    "        factorial *= i\n",
    "    print(f\"The factorial of {number} is {factorial}\")"
   ]
  },
  {
   "cell_type": "markdown",
   "id": "e6beef62",
   "metadata": {
    "id": "e6beef62"
   },
   "source": [
    "### 2. Write a Python Program to Display the multiplication Table?"
   ]
  },
  {
   "cell_type": "markdown",
   "id": "-DGZq5N22z65",
   "metadata": {
    "id": "-DGZq5N22z65"
   },
   "source": []
  },
  {
   "cell_type": "code",
   "execution_count": 3,
   "id": "KRlnRPqETMOx",
   "metadata": {
    "id": "KRlnRPqETMOx"
   },
   "outputs": [
    {
     "name": "stdout",
     "output_type": "stream",
     "text": [
      "Enter a number to display its multiplication table: 5\n",
      "\n",
      "Multiplication Table for 5:\n",
      "\n",
      "5 x 1 = 5\n",
      "5 x 2 = 10\n",
      "5 x 3 = 15\n",
      "5 x 4 = 20\n",
      "5 x 5 = 25\n",
      "5 x 6 = 30\n",
      "5 x 7 = 35\n",
      "5 x 8 = 40\n",
      "5 x 9 = 45\n",
      "5 x 10 = 50\n"
     ]
    }
   ],
   "source": [
    "# Taking input from the user\n",
    "number = int(input(\"Enter a number to display its multiplication table: \"))\n",
    "\n",
    "# Displaying the multiplication table\n",
    "print(f\"\\nMultiplication Table for {number}:\\n\")\n",
    "for i in range(1, 11):\n",
    "    result = number * i\n",
    "    print(f\"{number} x {i} = {result}\")"
   ]
  },
  {
   "cell_type": "markdown",
   "id": "7de7eba5",
   "metadata": {
    "id": "7de7eba5"
   },
   "source": [
    "### 3. Write a Python Program to Print the Fibonacci sequence?\n"
   ]
  },
  {
   "cell_type": "code",
   "execution_count": 5,
   "id": "0a25b485",
   "metadata": {},
   "outputs": [
    {
     "name": "stdout",
     "output_type": "stream",
     "text": [
      "Enter the number of terms for the Fibonacci sequence: 8\n",
      "\n",
      "Fibonacci Sequence:\n",
      "[0, 1, 1, 2, 3, 5, 8, 13]\n"
     ]
    }
   ],
   "source": [
    "# Function to generate Fibonacci sequence\n",
    "def gen_fibonacci(n):\n",
    "    fibonacci_sequence = [0, 1]\n",
    "\n",
    "    while len(fibonacci_sequence) < n:\n",
    "        next_term = fibonacci_sequence[-1] + fibonacci_sequence[-2]\n",
    "        fibonacci_sequence.append(next_term)\n",
    "\n",
    "    return fibonacci_sequence\n",
    "\n",
    "# Taking input from the user\n",
    "terms = int(input(\"Enter the number of terms for the Fibonacci sequence: \"))\n",
    "\n",
    "# Displaying the Fibonacci sequence\n",
    "fibonacci_sequence = gen_fibonacci(terms)\n",
    "print(\"\\nFibonacci Sequence:\")\n",
    "print(fibonacci_sequence)"
   ]
  },
  {
   "cell_type": "markdown",
   "id": "0446442e",
   "metadata": {
    "id": "0446442e"
   },
   "source": [
    "### 4. Write a Python Program to Check Armstrong Number?"
   ]
  },
  {
   "cell_type": "code",
   "execution_count": 9,
   "id": "185fe38f",
   "metadata": {},
   "outputs": [
    {
     "name": "stdout",
     "output_type": "stream",
     "text": [
      "Enter a number to check if it's an Armstrong number: 4589\n",
      "4589 is not an Armstrong number.\n"
     ]
    }
   ],
   "source": [
    "# Function to check if a number is an Armstrong number\n",
    "def is_armstrong_number(number):\n",
    "    num_str = str(number)\n",
    "    num_digits = len(num_str)\n",
    "    armstrong_sum = sum(int(digit) ** num_digits for digit in num_str)\n",
    "    return armstrong_sum == number\n",
    "\n",
    "# Taking input from the user\n",
    "number = int(input(\"Enter a number to check if it's an Armstrong number: \"))\n",
    "\n",
    "# Checking if the number is an Armstrong number\n",
    "if is_armstrong_number(number):\n",
    "    print(f\"{number} is an Armstrong number.\")\n",
    "else:\n",
    "    print(f\"{number} is not an Armstrong number.\")"
   ]
  },
  {
   "cell_type": "markdown",
   "id": "a6f9adfe",
   "metadata": {
    "id": "a6f9adfe"
   },
   "source": [
    "### 5. Write a Python Program to Find Armstrong Number in an Interval?"
   ]
  },
  {
   "cell_type": "markdown",
   "id": "qbmbp0_822o1",
   "metadata": {
    "id": "qbmbp0_822o1"
   },
   "source": []
  },
  {
   "cell_type": "code",
   "execution_count": 5,
   "id": "6700357b",
   "metadata": {},
   "outputs": [
    {
     "name": "stdout",
     "output_type": "stream",
     "text": [
      "Enter the lower limit of the interval: 1\n",
      "Enter the upper limit of the interval: 1900\n",
      "\n",
      "Armstrong numbers in the interval 1-1900:\n",
      "\n",
      "1\n",
      "2\n",
      "3\n",
      "4\n",
      "5\n",
      "6\n",
      "7\n",
      "8\n",
      "9\n",
      "153\n",
      "370\n",
      "371\n",
      "407\n",
      "1634\n"
     ]
    }
   ],
   "source": [
    "# Function to check if a number is an Armstrong number\n",
    "def is_armstrong_number(number):\n",
    "    num_str = str(number)\n",
    "    num_digits = len(num_str)\n",
    "    armstrong_sum = sum(int(digit) ** num_digits for digit in num_str)\n",
    "    return armstrong_sum == number\n",
    "\n",
    "# Taking input from the user for the interval\n",
    "lower_limit = int(input(\"Enter the lower limit of the interval: \"))\n",
    "upper_limit = int(input(\"Enter the upper limit of the interval: \"))\n",
    "\n",
    "if lower_limit > upper_limit:\n",
    "    print(\"Invalid interval. The lower limit should be less than the upper limit.\")\n",
    "else:\n",
    "    # Finding and displaying Armstrong numbers in the interval\n",
    "    print(f\"\\nArmstrong numbers in the interval {lower_limit}-{upper_limit}:\\n\")\n",
    "    for num in range(lower_limit, upper_limit + 1):\n",
    "        if is_armstrong_number(num):\n",
    "            print(num)"
   ]
  },
  {
   "cell_type": "markdown",
   "id": "157cad60",
   "metadata": {
    "id": "157cad60"
   },
   "source": [
    "### 6. Write a Python Program to Find the Sum of Natural Numbers?"
   ]
  },
  {
   "cell_type": "code",
   "execution_count": 6,
   "id": "2da0b2af",
   "metadata": {},
   "outputs": [
    {
     "name": "stdout",
     "output_type": "stream",
     "text": [
      "Enter a positive integer: 50\n",
      "The sum of natural numbers up to 50 is: 1275\n"
     ]
    }
   ],
   "source": [
    "# Function to find the sum of natural numbers up to a given limit\n",
    "def sum_of_natural_numbers(limit):\n",
    "    return sum(range(1, limit + 1))\n",
    "\n",
    "# Taking input from the user\n",
    "n = int(input(\"Enter a positive integer: \"))\n",
    "\n",
    "# Checking if the entered number is positive\n",
    "if n <= 0:\n",
    "    print(\"Please enter a positive integer.\")\n",
    "else:\n",
    "    # Calculating and displaying the sum of natural numbers\n",
    "    result = sum_of_natural_numbers(n)\n",
    "    print(f\"The sum of natural numbers up to {n} is: {result}\")"
   ]
  }
 ],
 "metadata": {
  "colab": {
   "provenance": []
  },
  "kernelspec": {
   "display_name": "Python 3",
   "language": "python",
   "name": "python3"
  },
  "language_info": {
   "codemirror_mode": {
    "name": "ipython",
    "version": 3
   },
   "file_extension": ".py",
   "mimetype": "text/x-python",
   "name": "python",
   "nbconvert_exporter": "python",
   "pygments_lexer": "ipython3",
   "version": "3.8.8"
  }
 },
 "nbformat": 4,
 "nbformat_minor": 5
}
