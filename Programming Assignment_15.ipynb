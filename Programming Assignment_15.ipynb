{
 "cells": [
  {
   "cell_type": "markdown",
   "id": "7df6e6a0",
   "metadata": {},
   "source": [
    "## Python Basic Programming Assignment - 15\n",
    "-------------------"
   ]
  },
  {
   "cell_type": "markdown",
   "id": "de299c62",
   "metadata": {},
   "source": [
    "### 1. Please write a program using generator to print the numbers which can be divisible by 5 and 7 between 0 and n in comma separated form while n is input by console."
   ]
  },
  {
   "cell_type": "code",
   "execution_count": 1,
   "id": "878345dd",
   "metadata": {},
   "outputs": [
    {
     "name": "stdout",
     "output_type": "stream",
     "text": [
      "Enter the upper limit (n): 300\n",
      "Numbers divisible by 5 and 7 between 0 and 300: 0, 35, 70, 105, 140, 175, 210, 245, 280\n"
     ]
    }
   ],
   "source": [
    "def generate_numbers(n):\n",
    "    for num in range(n + 1):\n",
    "        if num % 5 == 0 and num % 7 == 0:\n",
    "            yield num\n",
    "\n",
    "# Input for the upper limit (n)\n",
    "n = int(input(\"Enter the upper limit (n): \"))\n",
    "\n",
    "# Generate and print the numbers in comma-separated form\n",
    "result_numbers = generate_numbers(n)\n",
    "result_str = ', '.join(map(str, result_numbers))\n",
    "\n",
    "print(f\"Numbers divisible by 5 and 7 between 0 and {n}: {result_str}\")"
   ]
  },
  {
   "cell_type": "markdown",
   "id": "c04aab80",
   "metadata": {},
   "source": [
    "\n",
    "### 2. Please write a program using generator to print the even numbers between 0 and n in comma separated form while n is input by console."
   ]
  },
  {
   "cell_type": "code",
   "execution_count": 4,
   "id": "7cbf1585",
   "metadata": {},
   "outputs": [
    {
     "name": "stdout",
     "output_type": "stream",
     "text": [
      "Enter the upper limit (n): 50\n",
      "Even numbers between 0 and 50: 0, 2, 4, 6, 8, 10, 12, 14, 16, 18, 20, 22, 24, 26, 28, 30, 32, 34, 36, 38, 40, 42, 44, 46, 48, 50\n"
     ]
    }
   ],
   "source": [
    "def generate_even_numbers(n):\n",
    "    for num in range(n + 1):\n",
    "        if num % 2 == 0:\n",
    "            yield num\n",
    "\n",
    "# Input for the upper limit (n)\n",
    "n = int(input(\"Enter the upper limit (n): \"))\n",
    "\n",
    "# Generate and print the even numbers in comma-separated form\n",
    "result_even_numbers = generate_even_numbers(n)\n",
    "result_str = ', '.join(map(str, result_even_numbers))\n",
    "\n",
    "print(f\"Even numbers between 0 and {n}: {result_str}\")"
   ]
  },
  {
   "cell_type": "markdown",
   "id": "35b72559",
   "metadata": {},
   "source": [
    "### 3. Please write a program using list comprehension to print the Fibonacci Sequence in comma separated form with a given n input by console."
   ]
  },
  {
   "cell_type": "code",
   "execution_count": 3,
   "id": "0ee0d6d3",
   "metadata": {},
   "outputs": [
    {
     "name": "stdout",
     "output_type": "stream",
     "text": [
      "Enter the value of n for Fibonacci sequence: 10\n",
      "Fibonacci Sequence up to 10 terms: 0, 1, 1, 2, 3, 5, 8, 13, 21, 34\n"
     ]
    }
   ],
   "source": [
    "def fibonacci_sequence(n):\n",
    "    fib_sequence = [0, 1]\n",
    "    [fib_sequence.append(fib_sequence[-1] + fib_sequence[-2]) for _ in range(2, n)]\n",
    "    return fib_sequence[:n]\n",
    "\n",
    "n = int(input(\"Enter the value of n for Fibonacci sequence: \"))\n",
    "if n <= 0:\n",
    "    print(\"Please enter a positive integer for n.\")\n",
    "else:\n",
    "    result = fibonacci_sequence(n)\n",
    "    print(f\"Fibonacci Sequence up to {n} terms: {', '.join(map(str, result))}\")"
   ]
  },
  {
   "cell_type": "markdown",
   "id": "dea0be0f",
   "metadata": {},
   "source": [
    "\n",
    "### 4. Assuming that we have some email addresses in the \"username@companyname.com\" format, please write program to print the user name of a given email address. Both user names and company names are composed of letters only."
   ]
  },
  {
   "cell_type": "code",
   "execution_count": 40,
   "id": "9d125c8e",
   "metadata": {},
   "outputs": [
    {
     "name": "stdout",
     "output_type": "stream",
     "text": [
      "Enter the email address (username@companyname.com): ashishsengar@gmail.com\n",
      "User Name: ashishsengar\n"
     ]
    }
   ],
   "source": [
    "def extract_username(email):\n",
    "    # Split the email address into username and domain parts\n",
    "    username, rest = email.split('@', 1)\n",
    "    \n",
    "    # Extract the user name (assuming it consists of letters only)\n",
    "    user_name = ''.join(c for c in username if c.isalpha())\n",
    "    \n",
    "    return user_name\n",
    "\n",
    "# Get user input for the email address\n",
    "email_address = input(\"Enter the email address (username@companyname.com): \")\n",
    "\n",
    "# Extract and print the user name\n",
    "user_name = extract_username(email_address)\n",
    "print(\"User Name:\", user_name)"
   ]
  },
  {
   "cell_type": "markdown",
   "id": "2834c88f",
   "metadata": {},
   "source": [
    "\n",
    "### 5. Define a class named Shape and its subclass Square. The Square class has an init function which takes a length as argument. Both classes have a area function which can print the area of the shape where Shape's area is 0 by default."
   ]
  },
  {
   "cell_type": "code",
   "execution_count": 7,
   "id": "b73655f8",
   "metadata": {},
   "outputs": [
    {
     "name": "stdout",
     "output_type": "stream",
     "text": [
      "Default Area of Shape: 0\n",
      "Enter length: 15\n",
      "Area of Square: 225\n"
     ]
    }
   ],
   "source": [
    "class Shape:\n",
    "    def __init__(self):\n",
    "        pass\n",
    "    \n",
    "    def area(self):\n",
    "        return 0  # Default area for the base class\n",
    "\n",
    "class Square(Shape):\n",
    "    def __init__(self, length):\n",
    "        super().__init__()\n",
    "        self.length = length\n",
    "    \n",
    "    def area(self):\n",
    "        return self.length ** 2  # Area of a square is length * length\n",
    "\n",
    "# Example usage:\n",
    "shape_obj = Shape()\n",
    "print(\"Default Area of Shape:\", shape_obj.area())\n",
    "\n",
    "square_obj = Square(int(input(\"Enter length: \")))\n",
    "print(\"Area of Square:\", square_obj.area())"
   ]
  }
 ],
 "metadata": {
  "kernelspec": {
   "display_name": "Python 3",
   "language": "python",
   "name": "python3"
  },
  "language_info": {
   "codemirror_mode": {
    "name": "ipython",
    "version": 3
   },
   "file_extension": ".py",
   "mimetype": "text/x-python",
   "name": "python",
   "nbconvert_exporter": "python",
   "pygments_lexer": "ipython3",
   "version": "3.8.8"
  }
 },
 "nbformat": 4,
 "nbformat_minor": 5
}
