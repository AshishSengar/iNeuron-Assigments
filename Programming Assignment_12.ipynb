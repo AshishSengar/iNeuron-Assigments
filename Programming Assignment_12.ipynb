{
 "cells": [
  {
   "cell_type": "markdown",
   "id": "b7231b20",
   "metadata": {},
   "source": [
    "# Python Basic Programming Assignment 12\n",
    "-------------"
   ]
  },
  {
   "cell_type": "markdown",
   "id": "d2ec324d",
   "metadata": {},
   "source": [
    "### 1. Write a Python program to Extract Unique values dictionary values?"
   ]
  },
  {
   "cell_type": "code",
   "execution_count": 1,
   "id": "7daa9bd2",
   "metadata": {},
   "outputs": [
    {
     "name": "stdout",
     "output_type": "stream",
     "text": [
      "Unique values: {1, 2, 3, 4, 5, 42, 'world', 'hello'}\n"
     ]
    }
   ],
   "source": [
    "def extract_unique_values(dictionary):\n",
    "    # Use a set to store unique values\n",
    "    unique_values = set()\n",
    "\n",
    "    # Iterate through the values of the dictionary\n",
    "    for values in dictionary.values():\n",
    "        # If the value is a single item, add it to the set\n",
    "        if isinstance(values, (int, float, str)):\n",
    "            unique_values.add(values)\n",
    "        # If the value is a list or another iterable, add its elements to the set\n",
    "        elif isinstance(values, (list, tuple)):\n",
    "            unique_values.update(values)\n",
    "        else:\n",
    "            print(f\"Warning: Unhandled type in dictionary value - {type(values)}\")\n",
    "\n",
    "    return unique_values\n",
    "\n",
    "# Input dictionary\n",
    "input_dict = {\n",
    "    'key1': [1, 2, 3],\n",
    "    'key2': 'hello',\n",
    "    'key3': [3, 4, 5],\n",
    "    'key4': 'world',\n",
    "    'key5': 42\n",
    "}\n",
    "\n",
    "# Extract unique values\n",
    "result = extract_unique_values(input_dict)\n",
    "\n",
    "# Print the result\n",
    "print(f\"Unique values: {result}\")"
   ]
  },
  {
   "cell_type": "markdown",
   "id": "203bcbc3",
   "metadata": {},
   "source": [
    "### 2. Write a Python program to find the sum of all items in a dictionary?"
   ]
  },
  {
   "cell_type": "code",
   "execution_count": 2,
   "id": "49ff6142",
   "metadata": {},
   "outputs": [
    {
     "name": "stdout",
     "output_type": "stream",
     "text": [
      "Warning: Skipping non-numeric value - invalid\n",
      "Sum of dictionary values: 75.5\n"
     ]
    }
   ],
   "source": [
    "def sum_of_dictionary_values(dictionary):\n",
    "    # Initialize the sum to 0\n",
    "    total_sum = 0\n",
    "\n",
    "    # Iterate through the values of the dictionary\n",
    "    for value in dictionary.values():\n",
    "        # Check if the value is numeric (int or float)\n",
    "        if isinstance(value, (int, float)):\n",
    "            # Add the numeric value to the sum\n",
    "            total_sum += value\n",
    "        else:\n",
    "            print(f\"Warning: Skipping non-numeric value - {value}\")\n",
    "\n",
    "    return total_sum\n",
    "\n",
    "# Input dictionary\n",
    "input_dict = {\n",
    "    'key1': 10,\n",
    "    'key2': 20,\n",
    "    'key3': 30.5,\n",
    "    'key4': 'invalid',  # This will be skipped\n",
    "    'key5': 15\n",
    "}\n",
    "\n",
    "# Find the sum of dictionary values\n",
    "result = sum_of_dictionary_values(input_dict)\n",
    "\n",
    "# Print the result\n",
    "print(f\"Sum of dictionary values: {result}\")"
   ]
  },
  {
   "cell_type": "markdown",
   "id": "edfbc682",
   "metadata": {},
   "source": [
    "### 3. Write a Python program to Merging two Dictionaries?"
   ]
  },
  {
   "cell_type": "code",
   "execution_count": 3,
   "id": "1b6d5c25",
   "metadata": {},
   "outputs": [
    {
     "name": "stdout",
     "output_type": "stream",
     "text": [
      "Merged Dictionary (Method 1): {'a': 1, 'b': 3, 'c': 4}\n",
      "Merged Dictionary (Method 2): {'a': 1, 'b': 3, 'c': 4}\n"
     ]
    }
   ],
   "source": [
    "def merge_dictionaries(dict1, dict2):\n",
    "    # Method 1: Using the update method\n",
    "    merged_dict1 = dict1.copy()\n",
    "    merged_dict1.update(dict2)\n",
    "\n",
    "    # Method 2: Using the {**dict1, **dict2} syntax\n",
    "    merged_dict2 = {**dict1, **dict2}\n",
    "\n",
    "    return merged_dict1, merged_dict2\n",
    "\n",
    "# Input dictionaries\n",
    "dict1 = {'a': 1, 'b': 2}\n",
    "dict2 = {'b': 3, 'c': 4}\n",
    "\n",
    "# Merge dictionaries\n",
    "result_method1, result_method2 = merge_dictionaries(dict1, dict2)\n",
    "\n",
    "# Print the results\n",
    "print(\"Merged Dictionary (Method 1):\", result_method1)\n",
    "print(\"Merged Dictionary (Method 2):\", result_method2)"
   ]
  },
  {
   "cell_type": "markdown",
   "id": "62eaf687",
   "metadata": {},
   "source": [
    "### 4. Write a Python program to convert key-values list to flat dictionary?"
   ]
  },
  {
   "cell_type": "code",
   "execution_count": 4,
   "id": "c6213127",
   "metadata": {},
   "outputs": [
    {
     "name": "stdout",
     "output_type": "stream",
     "text": [
      "Flat Dictionary: {'a': 1, 'b': 2, 'c': 3}\n"
     ]
    }
   ],
   "source": [
    "def convert_to_flat_dictionary(key_value_list):\n",
    "    # Initialize an empty dictionary\n",
    "    flat_dict = {}\n",
    "\n",
    "    # Iterate through the key-value pairs in the list\n",
    "    for key, value in key_value_list:\n",
    "        # Add key-value pair to the dictionary\n",
    "        flat_dict[key] = value\n",
    "\n",
    "    return flat_dict\n",
    "\n",
    "# Input key-values list\n",
    "key_value_list = [('a', 1), ('b', 2), ('c', 3)]\n",
    "\n",
    "# Convert to flat dictionary\n",
    "result = convert_to_flat_dictionary(key_value_list)\n",
    "\n",
    "# Print the result\n",
    "print(\"Flat Dictionary:\", result)"
   ]
  },
  {
   "cell_type": "markdown",
   "id": "fcc5015f",
   "metadata": {},
   "source": [
    "### 5. Write a Python program to insertion at the beginning in OrderedDict?"
   ]
  },
  {
   "cell_type": "code",
   "execution_count": 5,
   "id": "ae2181f5",
   "metadata": {},
   "outputs": [
    {
     "name": "stdout",
     "output_type": "stream",
     "text": [
      "Original OrderedDict: OrderedDict([('b', 2), ('c', 3)])\n",
      "OrderedDict after insertion at the beginning: OrderedDict([('a', 1), ('b', 2), ('c', 3)])\n"
     ]
    }
   ],
   "source": [
    "from collections import OrderedDict\n",
    "\n",
    "def insert_at_beginning(ordered_dict, key, value):\n",
    "    # Create a new OrderedDict with the new element\n",
    "    new_ordered_dict = OrderedDict([(key, value)])\n",
    "\n",
    "    # Update the new OrderedDict with the original OrderedDict\n",
    "    new_ordered_dict.update(ordered_dict)\n",
    "\n",
    "    return new_ordered_dict\n",
    "\n",
    "# Example OrderedDict\n",
    "original_ordered_dict = OrderedDict([('b', 2), ('c', 3)])\n",
    "\n",
    "# Element to insert at the beginning\n",
    "key_to_insert = 'a'\n",
    "value_to_insert = 1\n",
    "\n",
    "# Insert at the beginning\n",
    "result_ordered_dict = insert_at_beginning(original_ordered_dict, key_to_insert, value_to_insert)\n",
    "\n",
    "# Print the result\n",
    "print(\"Original OrderedDict:\", original_ordered_dict)\n",
    "print(\"OrderedDict after insertion at the beginning:\", result_ordered_dict)"
   ]
  },
  {
   "cell_type": "markdown",
   "id": "5978c9ab",
   "metadata": {},
   "source": [
    "### 6. Write a Python program to check order of character in string using OrderedDict()?"
   ]
  },
  {
   "cell_type": "code",
   "execution_count": 6,
   "id": "c5ed5eec",
   "metadata": {},
   "outputs": [
    {
     "name": "stdout",
     "output_type": "stream",
     "text": [
      "Enter a string: hello\n",
      "Enter the order pattern: helo\n",
      "The order of characters in 'hello' matches the pattern 'helo'.\n"
     ]
    }
   ],
   "source": [
    "from collections import OrderedDict\n",
    "\n",
    "def check_order_of_characters(input_str, pattern):\n",
    "    # Create an OrderedDict from the input string\n",
    "    char_order_dict = OrderedDict.fromkeys(input_str)\n",
    "\n",
    "    # Check if the keys (characters) in the OrderedDict match the given pattern\n",
    "    return ''.join(char_order_dict.keys()) == pattern\n",
    "\n",
    "# Input string and pattern\n",
    "input_string = input(\"Enter a string: \")\n",
    "order_pattern = input(\"Enter the order pattern: \")\n",
    "\n",
    "# Check the order of characters\n",
    "result = check_order_of_characters(input_string, order_pattern)\n",
    "\n",
    "# Print the result\n",
    "if result:\n",
    "    print(f\"The order of characters in '{input_string}' matches the pattern '{order_pattern}'.\")\n",
    "else:\n",
    "    print(f\"The order of characters in '{input_string}' does not match the pattern '{order_pattern}'.\")"
   ]
  },
  {
   "cell_type": "markdown",
   "id": "f330da77",
   "metadata": {},
   "source": [
    "### 7. Write a Python program to sort Python Dictionaries by Key or Value?"
   ]
  },
  {
   "cell_type": "code",
   "execution_count": 7,
   "id": "ac0efc12",
   "metadata": {},
   "outputs": [
    {
     "name": "stdout",
     "output_type": "stream",
     "text": [
      "Sorted by Key: {'a': 1, 'b': 2, 'c': 3}\n"
     ]
    }
   ],
   "source": [
    "def sort_dict_by_key(input_dict):\n",
    "    # Sort the dictionary by keys\n",
    "    sorted_dict = dict(sorted(input_dict.items()))\n",
    "\n",
    "    return sorted_dict\n",
    "\n",
    "# Input dictionary\n",
    "input_dict = {'c': 3, 'a': 1, 'b': 2}\n",
    "\n",
    "# Sort by key\n",
    "result_sorted_by_key = sort_dict_by_key(input_dict)\n",
    "\n",
    "# Print the result\n",
    "print(\"Sorted by Key:\", result_sorted_by_key)"
   ]
  }
 ],
 "metadata": {
  "kernelspec": {
   "display_name": "Python 3",
   "language": "python",
   "name": "python3"
  },
  "language_info": {
   "codemirror_mode": {
    "name": "ipython",
    "version": 3
   },
   "file_extension": ".py",
   "mimetype": "text/x-python",
   "name": "python",
   "nbconvert_exporter": "python",
   "pygments_lexer": "ipython3",
   "version": "3.8.8"
  }
 },
 "nbformat": 4,
 "nbformat_minor": 5
}
