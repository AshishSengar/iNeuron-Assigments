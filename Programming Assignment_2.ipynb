{
 "cells": [
  {
   "cell_type": "markdown",
   "id": "08c66ea5",
   "metadata": {
    "id": "08c66ea5"
   },
   "source": [
    "## Programming Assignment_2\n",
    "-------------"
   ]
  },
  {
   "cell_type": "markdown",
   "id": "4e50cf42",
   "metadata": {
    "id": "4e50cf42"
   },
   "source": [
    "### 1. Write a Python program to convert kilometers to miles?"
   ]
  },
  {
   "cell_type": "code",
   "execution_count": 14,
   "id": "dc964418",
   "metadata": {},
   "outputs": [
    {
     "name": "stdout",
     "output_type": "stream",
     "text": [
      "Enter the distance in kilometers: 45\n",
      "45.0 kilometers is equal to 27.962999999999997 miles.\n"
     ]
    }
   ],
   "source": [
    "# Get user input for distance in kilometers\n",
    "kilometers = float(input(\"Enter the distance in kilometers: \"))\n",
    "\n",
    "# Conversion factor: 1 kilometer is approximately 0.6214 miles\n",
    "conversion_factor = 0.6214\n",
    "\n",
    "# Convert kilometers to miles\n",
    "miles = kilometers * conversion_factor\n",
    "\n",
    "# Display the result\n",
    "print(f\"{kilometers} kilometers is equal to {miles} miles.\")"
   ]
  },
  {
   "cell_type": "markdown",
   "id": "0df4e6bf",
   "metadata": {
    "id": "0df4e6bf"
   },
   "source": [
    "### 2.Write a Python program to convert Celsius to Fahrenheit?"
   ]
  },
  {
   "cell_type": "markdown",
   "id": "Q-iUx4CQoppc",
   "metadata": {
    "id": "Q-iUx4CQoppc"
   },
   "source": []
  },
  {
   "cell_type": "code",
   "execution_count": 20,
   "id": "1e5fecf5",
   "metadata": {},
   "outputs": [
    {
     "name": "stdout",
     "output_type": "stream",
     "text": [
      "Enter the temperature in Celsius: 45\n",
      "45.0 ℃ is equal to 113.0 ℉.\n"
     ]
    }
   ],
   "source": [
    "# Get user input for temperature in Celsius\n",
    "celsius = float(input(\"Enter the temperature in Celsius: \"))\n",
    "\n",
    "# Convert celsius to fahrenheit\n",
    "fahrenheit = (celsius * 9/5) + 32\n",
    "\n",
    "# Display the result\n",
    "print(f\"{celsius} \\u2103 is equal to {fahrenheit} \\u2109.\")"
   ]
  },
  {
   "cell_type": "markdown",
   "id": "46129b8e",
   "metadata": {
    "id": "46129b8e"
   },
   "source": [
    "### 3. Write a Python program to display calendar?"
   ]
  },
  {
   "cell_type": "code",
   "execution_count": 21,
   "id": "e35dc6e4",
   "metadata": {},
   "outputs": [
    {
     "name": "stdout",
     "output_type": "stream",
     "text": [
      "Enter the year (e.g., 2022): 2024\n",
      "Enter the month (1-12): 2\n",
      "\n",
      "Calendar for February 2024:\n",
      "\n",
      "   February 2024\n",
      "Mo Tu We Th Fr Sa Su\n",
      "          1  2  3  4\n",
      " 5  6  7  8  9 10 11\n",
      "12 13 14 15 16 17 18\n",
      "19 20 21 22 23 24 25\n",
      "26 27 28 29\n",
      "\n"
     ]
    }
   ],
   "source": [
    "import calendar\n",
    "\n",
    "# Taking input from the user for the year and month\n",
    "try:\n",
    "    year = int(input(\"Enter the year (e.g., 2022): \"))\n",
    "    month = int(input(\"Enter the month (1-12): \"))\n",
    "\n",
    "    # Displaying the calendar\n",
    "    cal = calendar.month(year, month)\n",
    "    print(f\"\\nCalendar for {calendar.month_name[month]} {year}:\\n\")\n",
    "    print(cal)\n",
    "except ValueError:\n",
    "    print(\"Please enter valid numeric values for year and month.\")"
   ]
  },
  {
   "cell_type": "markdown",
   "id": "db2bf0f7",
   "metadata": {
    "id": "db2bf0f7"
   },
   "source": [
    "### 4. Write a Python program to solve quadratic equation?"
   ]
  },
  {
   "cell_type": "code",
   "execution_count": 22,
   "id": "eef84605",
   "metadata": {},
   "outputs": [
    {
     "name": "stdout",
     "output_type": "stream",
     "text": [
      "Enter the coefficient a: 1\n",
      "Enter the coefficient b: 5\n",
      "Enter the coefficient c:6\n",
      "\n",
      "The solutions are: (-2+0j) and (-3+0j)\n"
     ]
    }
   ],
   "source": [
    "import cmath\n",
    "\n",
    "def solve_quadratic(a, b, c):\n",
    "    # Calculate the solutions\n",
    "    root1 = (-b + cmath.sqrt(b**2 - 4*a*c)) / (2*a)\n",
    "    root2 = (-b - cmath.sqrt(b**2 - 4*a*c)) / (2*a)\n",
    "\n",
    "    return root1, root2\n",
    "\n",
    "# Taking input from the user for coefficients\n",
    "try:\n",
    "    a = float(input(\"Enter the coefficient a: \"))\n",
    "    b = float(input(\"Enter the coefficient b: \"))\n",
    "    c = float(input(\"Enter the coefficient c:\"))\n",
    "\n",
    "    # Solve the quadratic equation\n",
    "    roots = solve_quadratic(a, b, c)\n",
    "\n",
    "    # Display the solutions\n",
    "    print(f\"\\nThe solutions are: {roots[0]} and {roots[1]}\")\n",
    "except ValueError:\n",
    "    print(\"Please enter valid numeric coefficients.\")"
   ]
  },
  {
   "cell_type": "markdown",
   "id": "f70f74c9",
   "metadata": {
    "id": "f70f74c9"
   },
   "source": [
    "### 5. Write a Python program to swap two variables without temp variable?"
   ]
  },
  {
   "cell_type": "code",
   "execution_count": 23,
   "id": "f32f8790",
   "metadata": {},
   "outputs": [
    {
     "name": "stdout",
     "output_type": "stream",
     "text": [
      "Enter the value of variable 'a': 4\n",
      "Enter the value of variable 'b': 8\n",
      "After swapping: a = 8, b = 4\n"
     ]
    }
   ],
   "source": [
    "# Swapping variables without a temp variable using arithmetic operations\n",
    "a = int(input(\"Enter the value of variable 'a': \"))\n",
    "b = int(input(\"Enter the value of variable 'b': \"))\n",
    "\n",
    "a = a + b\n",
    "b = a - b\n",
    "a = a - b\n",
    "\n",
    "print(f\"After swapping: a = {a}, b = {b}\")"
   ]
  }
 ],
 "metadata": {
  "colab": {
   "provenance": []
  },
  "kernelspec": {
   "display_name": "Python 3",
   "language": "python",
   "name": "python3"
  },
  "language_info": {
   "codemirror_mode": {
    "name": "ipython",
    "version": 3
   },
   "file_extension": ".py",
   "mimetype": "text/x-python",
   "name": "python",
   "nbconvert_exporter": "python",
   "pygments_lexer": "ipython3",
   "version": "3.8.8"
  }
 },
 "nbformat": 4,
 "nbformat_minor": 5
}
