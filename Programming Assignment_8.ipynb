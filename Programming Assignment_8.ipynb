{
 "cells": [
  {
   "cell_type": "markdown",
   "id": "9b304197",
   "metadata": {},
   "source": [
    "# Python Basic Programming Assignment 8"
   ]
  },
  {
   "cell_type": "markdown",
   "id": "22789ae6",
   "metadata": {},
   "source": [
    "### 1. Write a Python Program to Add Two Matrices?"
   ]
  },
  {
   "cell_type": "code",
   "execution_count": 1,
   "id": "4b41e8a3",
   "metadata": {},
   "outputs": [
    {
     "name": "stdout",
     "output_type": "stream",
     "text": [
      "Enter the number of rows: 2\n",
      "Enter the number of columns: 3\n",
      "\n",
      "Enter elements for the first matrix:\n",
      "Enter element for row 1, column 1: 4\n",
      "Enter element for row 1, column 2: 5\n",
      "Enter element for row 1, column 3: 7\n",
      "Enter element for row 2, column 1: 2\n",
      "Enter element for row 2, column 2: 5\n",
      "Enter element for row 2, column 3: 8\n",
      "\n",
      "Enter elements for the second matrix:\n",
      "Enter element for row 1, column 1: 3\n",
      "Enter element for row 1, column 2: 5\n",
      "Enter element for row 1, column 3: 4\n",
      "Enter element for row 2, column 1: 8\n",
      "Enter element for row 2, column 2: 9\n",
      "Enter element for row 2, column 3: 32\n",
      "\n",
      "Resultant Matrix after addition:\n",
      "[7, 10, 11]\n",
      "[10, 14, 40]\n"
     ]
    }
   ],
   "source": [
    "# Function to add two matrices\n",
    "def add_matrices(matrix1, matrix2):\n",
    "    result_matrix = []\n",
    "\n",
    "    # Checking if the matrices have the same dimensions\n",
    "    if len(matrix1) == len(matrix2) and all(len(row1) == len(row2) for row1, row2 in zip(matrix1, matrix2)):\n",
    "        for i in range(len(matrix1)):\n",
    "            result_row = [x + y for x, y in zip(matrix1[i], matrix2[i])]\n",
    "            result_matrix.append(result_row)\n",
    "        return result_matrix\n",
    "    else:\n",
    "        return \"Matrices have different dimensions. Addition is not possible.\"\n",
    "\n",
    "# Taking input from the user for the matrices\n",
    "# Inputting the number of rows and columns for both matrices\n",
    "rows = int(input(\"Enter the number of rows: \"))\n",
    "cols = int(input(\"Enter the number of columns: \"))\n",
    "\n",
    "# Inputting elements for the first matrix\n",
    "print(\"\\nEnter elements for the first matrix:\")\n",
    "matrix1 = [[int(input(f\"Enter element for row {i+1}, column {j+1}: \")) for j in range(cols)] for i in range(rows)]\n",
    "\n",
    "# Inputting elements for the second matrix\n",
    "print(\"\\nEnter elements for the second matrix:\")\n",
    "matrix2 = [[int(input(f\"Enter element for row {i+1}, column {j+1}: \")) for j in range(cols)] for i in range(rows)]\n",
    "\n",
    "# Adding the matrices and displaying the result\n",
    "result = add_matrices(matrix1, matrix2)\n",
    "if isinstance(result, list):\n",
    "    print(\"\\nResultant Matrix after addition:\")\n",
    "    for row in result:\n",
    "        print(row)\n",
    "else:\n",
    "    print(result)"
   ]
  },
  {
   "cell_type": "markdown",
   "id": "044ceda6",
   "metadata": {},
   "source": [
    "### 2. Write a Python Program to Multiply Two Matrices?"
   ]
  },
  {
   "cell_type": "code",
   "execution_count": 3,
   "id": "c7a6352e",
   "metadata": {},
   "outputs": [
    {
     "name": "stdout",
     "output_type": "stream",
     "text": [
      "Enter the number of rows for the first matrix: 2\n",
      "Enter the number of columns for the first matrix: 3\n",
      "\n",
      "Enter elements for the first matrix:\n",
      "Enter element for row 1, column 1: 4\n",
      "Enter element for row 1, column 2: 1\n",
      "Enter element for row 1, column 3: 2\n",
      "Enter element for row 2, column 1: 5\n",
      "Enter element for row 2, column 2: 3\n",
      "Enter element for row 2, column 3: 7\n",
      "Enter the number of rows for the second matrix: 3\n",
      "Enter the number of columns for the second matrix: 2\n",
      "\n",
      "Enter elements for the second matrix:\n",
      "Enter element for row 1, column 1: 4\n",
      "Enter element for row 1, column 2: 8\n",
      "Enter element for row 2, column 1: 7\n",
      "Enter element for row 2, column 2: 5\n",
      "Enter element for row 3, column 1: 9\n",
      "Enter element for row 3, column 2: 1\n",
      "\n",
      "Resultant Matrix after multiplication:\n",
      "[41, 39]\n",
      "[104, 62]\n"
     ]
    }
   ],
   "source": [
    "# Function to multiply two matrices\n",
    "def multiply_matrices(matrix1, matrix2):\n",
    "    result_matrix = []\n",
    "\n",
    "    # Checking if the matrices can be multiplied\n",
    "    if len(matrix1[0]) == len(matrix2):\n",
    "        for i in range(len(matrix1)):\n",
    "            result_row = []\n",
    "            for j in range(len(matrix2[0])):\n",
    "                result_element = sum(matrix1[i][k] * matrix2[k][j] for k in range(len(matrix2)))\n",
    "                result_row.append(result_element)\n",
    "            result_matrix.append(result_row)\n",
    "        return result_matrix\n",
    "    else:\n",
    "        return \"Matrices cannot be multiplied. Number of columns in the first matrix should be equal to the number of rows in the second matrix.\"\n",
    "\n",
    "# Taking input from the user for the matrices\n",
    "# Inputting the number of rows and columns for the first matrix\n",
    "rows1 = int(input(\"Enter the number of rows for the first matrix: \"))\n",
    "cols1 = int(input(\"Enter the number of columns for the first matrix: \"))\n",
    "\n",
    "# Inputting elements for the first matrix\n",
    "print(\"\\nEnter elements for the first matrix:\")\n",
    "matrix1 = [[int(input(f\"Enter element for row {i+1}, column {j+1}: \")) for j in range(cols1)] for i in range(rows1)]\n",
    "\n",
    "# Inputting the number of rows and columns for the second matrix\n",
    "rows2 = int(input(\"Enter the number of rows for the second matrix: \"))\n",
    "cols2 = int(input(\"Enter the number of columns for the second matrix: \"))\n",
    "\n",
    "# Inputting elements for the second matrix\n",
    "print(\"\\nEnter elements for the second matrix:\")\n",
    "matrix2 = [[int(input(f\"Enter element for row {i+1}, column {j+1}: \")) for j in range(cols2)] for i in range(rows2)]\n",
    "\n",
    "# Multiplying the matrices and displaying the result\n",
    "result = multiply_matrices(matrix1, matrix2)\n",
    "if isinstance(result, list):\n",
    "    print(\"\\nResultant Matrix after multiplication:\")\n",
    "    for row in result:\n",
    "        print(row)\n",
    "else:\n",
    "    print(result)"
   ]
  },
  {
   "cell_type": "markdown",
   "id": "5f688e46",
   "metadata": {},
   "source": [
    "### 3. Write a Python Program to Transpose a Matrix?"
   ]
  },
  {
   "cell_type": "code",
   "execution_count": 4,
   "id": "7ef4321e",
   "metadata": {},
   "outputs": [
    {
     "name": "stdout",
     "output_type": "stream",
     "text": [
      "Enter the number of rows for the matrix: 3\n",
      "Enter the number of columns for the matrix: 3\n",
      "\n",
      "Enter elements for the matrix:\n",
      "Enter element for row 1, column 1: 4\n",
      "Enter element for row 1, column 2: 1\n",
      "Enter element for row 1, column 3: 5\n",
      "Enter element for row 2, column 1: 2\n",
      "Enter element for row 2, column 2: 3\n",
      "Enter element for row 2, column 3: 4\n",
      "Enter element for row 3, column 1: 8\n",
      "Enter element for row 3, column 2: 3\n",
      "Enter element for row 3, column 3: 9\n",
      "\n",
      "Original Matrix:\n",
      "[4, 1, 5]\n",
      "[2, 3, 4]\n",
      "[8, 3, 9]\n",
      "\n",
      "Transposed Matrix:\n",
      "[4, 2, 8]\n",
      "[1, 3, 3]\n",
      "[5, 4, 9]\n"
     ]
    }
   ],
   "source": [
    "# Function to transpose a matrix\n",
    "def transpose_matrix(matrix):\n",
    "    return [[matrix[j][i] for j in range(len(matrix))] for i in range(len(matrix[0]))]\n",
    "\n",
    "# Taking input from the user for the matrix\n",
    "# Inputting the number of rows and columns for the matrix\n",
    "rows = int(input(\"Enter the number of rows for the matrix: \"))\n",
    "cols = int(input(\"Enter the number of columns for the matrix: \"))\n",
    "\n",
    "# Inputting elements for the matrix\n",
    "print(\"\\nEnter elements for the matrix:\")\n",
    "matrix = [[int(input(f\"Enter element for row {i+1}, column {j+1}: \")) for j in range(cols)] for i in range(rows)]\n",
    "\n",
    "# Transposing the matrix and displaying the result\n",
    "result = transpose_matrix(matrix)\n",
    "    \n",
    "print(\"\\nOriginal Matrix:\")\n",
    "for row in matrix:\n",
    "    print(row)\n",
    "\n",
    "print(\"\\nTransposed Matrix:\")\n",
    "for row in result:\n",
    "    print(row)"
   ]
  },
  {
   "cell_type": "markdown",
   "id": "b2849025",
   "metadata": {},
   "source": [
    "\n",
    "### 4. Write a Python Program to Sort Words in Alphabetic Order?\n"
   ]
  },
  {
   "cell_type": "code",
   "execution_count": 6,
   "id": "21f7e3b3",
   "metadata": {},
   "outputs": [
    {
     "name": "stdout",
     "output_type": "stream",
     "text": [
      "Enter a string of words: j b iy k fg yu jk\n",
      "\n",
      "Words in Alphabetic Order:\n",
      "b fg iy j jk k yu\n"
     ]
    }
   ],
   "source": [
    "# Function to sort words in alphabetic order\n",
    "def sort_words(input_string):\n",
    "    words = input_string.split()\n",
    "    sorted_words = sorted(words)\n",
    "    return \" \".join(sorted_words)\n",
    "\n",
    "# Taking input from the user\n",
    "input_string = input(\"Enter a string of words: \")\n",
    "\n",
    "# Sorting words and displaying the result\n",
    "result = sort_words(input_string)\n",
    "print(\"\\nWords in Alphabetic Order:\")\n",
    "print(result)"
   ]
  },
  {
   "cell_type": "markdown",
   "id": "48ac7b24",
   "metadata": {},
   "source": [
    "### 5. Write a Python Program to Remove Punctuation From a String?"
   ]
  },
  {
   "cell_type": "code",
   "execution_count": 7,
   "id": "54fdc7dc",
   "metadata": {},
   "outputs": [
    {
     "name": "stdout",
     "output_type": "stream",
     "text": [
      "Enter a string with punctuation: Wow! what a beautiful painting\n",
      "\n",
      "String without Punctuation:\n",
      "Wow what a beautiful painting\n"
     ]
    }
   ],
   "source": [
    "import string\n",
    "\n",
    "# Function to remove punctuation from a string\n",
    "def remove_punctuation(input_string):\n",
    "    return input_string.translate(str.maketrans(\"\", \"\", string.punctuation))\n",
    "\n",
    "# Taking input from the user\n",
    "input_string = input(\"Enter a string with punctuation: \")\n",
    "\n",
    "# Removing punctuation and displaying the result\n",
    "result = remove_punctuation(input_string)\n",
    "print(\"\\nString without Punctuation:\")\n",
    "print(result)"
   ]
  }
 ],
 "metadata": {
  "kernelspec": {
   "display_name": "Python 3",
   "language": "python",
   "name": "python3"
  },
  "language_info": {
   "codemirror_mode": {
    "name": "ipython",
    "version": 3
   },
   "file_extension": ".py",
   "mimetype": "text/x-python",
   "name": "python",
   "nbconvert_exporter": "python",
   "pygments_lexer": "ipython3",
   "version": "3.8.8"
  }
 },
 "nbformat": 4,
 "nbformat_minor": 5
}
