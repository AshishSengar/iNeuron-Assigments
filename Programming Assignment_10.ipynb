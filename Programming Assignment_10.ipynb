{
 "cells": [
  {
   "cell_type": "markdown",
   "id": "3dcb940f",
   "metadata": {},
   "source": [
    "## Python Basic Programming Assignment 10"
   ]
  },
  {
   "cell_type": "markdown",
   "id": "6720790a",
   "metadata": {},
   "source": [
    "### 1. Write a Python program to find sum of elements in list?"
   ]
  },
  {
   "cell_type": "code",
   "execution_count": 1,
   "id": "460605a2",
   "metadata": {},
   "outputs": [
    {
     "name": "stdout",
     "output_type": "stream",
     "text": [
      "Enter the list elements separated by space: 15 12 14 84 75\n",
      "The sum of the list elements is: 200.0\n"
     ]
    }
   ],
   "source": [
    "# Function to find the sum of elements in a list\n",
    "def sum_of_elements(lst):\n",
    "    return sum(lst)\n",
    "\n",
    "# Taking input from the user for the list\n",
    "# Inputting space-separated numbers and converting them to a list\n",
    "numbers = list(map(float, input(\"Enter the list elements separated by space: \").split()))\n",
    "\n",
    "# Calculating and displaying the sum of the list elements\n",
    "result = sum_of_elements(numbers)\n",
    "print(f\"The sum of the list elements is: {result}\")"
   ]
  },
  {
   "cell_type": "markdown",
   "id": "fe1137c3",
   "metadata": {},
   "source": [
    "### 2. Write a Python program to  Multiply all numbers in the list?"
   ]
  },
  {
   "cell_type": "code",
   "execution_count": 2,
   "id": "6ca8238c",
   "metadata": {},
   "outputs": [
    {
     "name": "stdout",
     "output_type": "stream",
     "text": [
      "Enter the list elements separated by space: 1 2 3 4 5 7 8\n",
      "The product of all elements in the list is: 6720.0\n"
     ]
    }
   ],
   "source": [
    "# Function to multiply all numbers in a list\n",
    "def multiply_all_elements(lst):\n",
    "    result = 1\n",
    "    for num in lst:\n",
    "        result *= num\n",
    "    return result\n",
    "\n",
    "# Taking input from the user for the list\n",
    "# Inputting space-separated numbers and converting them to a list\n",
    "numbers = list(map(float, input(\"Enter the list elements separated by space: \").split()))\n",
    "\n",
    "# Calculating and displaying the product of all list elements\n",
    "result = multiply_all_elements(numbers)\n",
    "print(f\"The product of all elements in the list is: {result}\")"
   ]
  },
  {
   "cell_type": "markdown",
   "id": "078681db",
   "metadata": {},
   "source": [
    "### 3. Write a Python program to find smallest number in a list?"
   ]
  },
  {
   "cell_type": "code",
   "execution_count": 3,
   "id": "50e6e51c",
   "metadata": {},
   "outputs": [
    {
     "name": "stdout",
     "output_type": "stream",
     "text": [
      "Enter the list elements separated by space: 13 54 894 54351 54535 34848 854\n",
      "The smallest number in the list is: 13.0\n"
     ]
    }
   ],
   "source": [
    "# Function to find the smallest number in a list\n",
    "def find_smallest_number(lst):\n",
    "    if not lst:\n",
    "        return None  # Return None for an empty list\n",
    "    else:\n",
    "        return min(lst)\n",
    "\n",
    "# Taking input from the user for the list\n",
    "# Inputting space-separated numbers and converting them to a list\n",
    "numbers = list(map(float, input(\"Enter the list elements separated by space: \").split()))\n",
    "\n",
    "# Finding and displaying the smallest number in the list\n",
    "result = find_smallest_number(numbers)\n",
    "    \n",
    "if result is not None:\n",
    "    print(f\"The smallest number in the list is: {result}\")\n",
    "else:\n",
    "    print(\"The list is empty.\")"
   ]
  },
  {
   "cell_type": "markdown",
   "id": "12b04397",
   "metadata": {},
   "source": [
    "### 4. Write a Python program to find largest number in a list?"
   ]
  },
  {
   "cell_type": "code",
   "execution_count": 4,
   "id": "86a802d4",
   "metadata": {},
   "outputs": [
    {
     "name": "stdout",
     "output_type": "stream",
     "text": [
      "Enter the list elements separated by space: 232 45 88745 543 8431 213218\n",
      "The largest number in the list is: 213218.0\n"
     ]
    }
   ],
   "source": [
    "# Function to find the largest number in a list\n",
    "def find_largest_number(lst):\n",
    "    if not lst:\n",
    "        return None  # Return None for an empty list\n",
    "    else:\n",
    "        return max(lst)\n",
    "\n",
    "# Taking input from the user for the list\n",
    "# Inputting space-separated numbers and converting them to a list\n",
    "numbers = list(map(float, input(\"Enter the list elements separated by space: \").split()))\n",
    "\n",
    "# Finding and displaying the largest number in the list\n",
    "result = find_largest_number(numbers)\n",
    "    \n",
    "if result is not None:\n",
    "    print(f\"The largest number in the list is: {result}\")\n",
    "else:\n",
    "    print(\"The list is empty.\")"
   ]
  },
  {
   "cell_type": "markdown",
   "id": "86442b51",
   "metadata": {},
   "source": [
    "### 5. Write a Python program to find second largest number in a list?"
   ]
  },
  {
   "cell_type": "code",
   "execution_count": 5,
   "id": "749aca9a",
   "metadata": {},
   "outputs": [
    {
     "name": "stdout",
     "output_type": "stream",
     "text": [
      "Enter the list elements separated by space: 5421 51351 8745 115 745442\n",
      "The second largest number in the list is: 51351.0\n"
     ]
    }
   ],
   "source": [
    "# Function to find the second largest number in a list\n",
    "def find_second_largest_number(lst):\n",
    "    if len(lst) < 2:\n",
    "        return None  # Return None for lists with less than two elements\n",
    "    else:\n",
    "        unique_numbers = list(set(lst))  # Remove duplicates\n",
    "        unique_numbers.sort(reverse=True)  # Sort in descending order\n",
    "        return unique_numbers[1]\n",
    "\n",
    "# Taking input from the user for the list\n",
    "# Inputting space-separated numbers and converting them to a list\n",
    "numbers = list(map(float, input(\"Enter the list elements separated by space: \").split()))\n",
    "\n",
    "# Finding and displaying the second largest number in the list\n",
    "result = find_second_largest_number(numbers)\n",
    "    \n",
    "if result is not None:\n",
    "    print(f\"The second largest number in the list is: {result}\")\n",
    "else:\n",
    "    print(\"The list has less than two elements.\")"
   ]
  },
  {
   "cell_type": "markdown",
   "id": "10964d7d",
   "metadata": {},
   "source": [
    "### 6. Write a Python program to find N largest elements from a list?"
   ]
  },
  {
   "cell_type": "code",
   "execution_count": 6,
   "id": "e05fb7a3",
   "metadata": {},
   "outputs": [
    {
     "name": "stdout",
     "output_type": "stream",
     "text": [
      "Enter the list elements separated by space: 3444 7 787444 4 7787874\n",
      "Enter the value of N: 4\n",
      "The 4 largest elements in the list are: [7787874.0, 787444.0, 3444.0, 7.0]\n"
     ]
    }
   ],
   "source": [
    "# Function to find the N largest elements in a list\n",
    "def find_n_largest_elements(lst, n):\n",
    "    if len(lst) < n:\n",
    "        return None  # Return None if the list has fewer elements than N\n",
    "    else:\n",
    "        unique_numbers = list(set(lst))  # Remove duplicates\n",
    "        unique_numbers.sort(reverse=True)  # Sort in descending order\n",
    "        return unique_numbers[:n]\n",
    "\n",
    "# Taking input from the user for the list and N\n",
    "# Inputting space-separated numbers and converting them to a list\n",
    "numbers = list(map(float, input(\"Enter the list elements separated by space: \").split()))\n",
    "\n",
    "# Inputting the value of N\n",
    "n = int(input(\"Enter the value of N: \"))\n",
    "\n",
    "# Finding and displaying the N largest elements in the list\n",
    "result = find_n_largest_elements(numbers, n)\n",
    "    \n",
    "if result is not None:\n",
    "    print(f\"The {n} largest elements in the list are: {result}\")\n",
    "else:\n",
    "    print(\"The list has fewer elements than N.\")"
   ]
  },
  {
   "cell_type": "markdown",
   "id": "2f1a1e98",
   "metadata": {},
   "source": [
    "### 7. Write a Python program to print even numbers in a list?"
   ]
  },
  {
   "cell_type": "code",
   "execution_count": 7,
   "id": "05ab7764",
   "metadata": {},
   "outputs": [
    {
     "name": "stdout",
     "output_type": "stream",
     "text": [
      "Enter the list elements separated by space: 513 48452 84513 54351 51212\n",
      "Even numbers in the list: [48452, 51212]\n"
     ]
    }
   ],
   "source": [
    "# Function to print even numbers in a list\n",
    "def print_even_numbers(lst):\n",
    "    even_numbers = [num for num in lst if num % 2 == 0]\n",
    "    print(\"Even numbers in the list:\", even_numbers)\n",
    "\n",
    "# Taking input from the user for the list\n",
    "# Inputting space-separated numbers and converting them to a list\n",
    "numbers = list(map(int, input(\"Enter the list elements separated by space: \").split()))\n",
    "\n",
    "# Printing even numbers in the list\n",
    "print_even_numbers(numbers)"
   ]
  },
  {
   "cell_type": "markdown",
   "id": "989bb324",
   "metadata": {},
   "source": [
    "### 8. Write a Python program to print odd numbers in a List?"
   ]
  },
  {
   "cell_type": "code",
   "execution_count": 8,
   "id": "44dd9320",
   "metadata": {},
   "outputs": [
    {
     "name": "stdout",
     "output_type": "stream",
     "text": [
      "Enter the list elements separated by space: 54132 8451 845313 545 0225\n",
      "Odd numbers in the list: [8451, 845313, 545, 225]\n"
     ]
    }
   ],
   "source": [
    "# Function to print odd numbers in a list\n",
    "def print_odd_numbers(lst):\n",
    "    odd_numbers = [num for num in lst if num % 2 != 0]\n",
    "    print(\"Odd numbers in the list:\", odd_numbers)\n",
    "\n",
    "# Taking input from the user for the list\n",
    "# Inputting space-separated numbers and converting them to a list\n",
    "numbers = list(map(int, input(\"Enter the list elements separated by space: \").split()))\n",
    "\n",
    "# Printing odd numbers in the list\n",
    "print_odd_numbers(numbers)"
   ]
  },
  {
   "cell_type": "markdown",
   "id": "185b7b13",
   "metadata": {},
   "source": [
    "### 9. Write a Python program to Remove empty List from List?"
   ]
  },
  {
   "cell_type": "code",
   "execution_count": 9,
   "id": "8599c947",
   "metadata": {},
   "outputs": [
    {
     "name": "stdout",
     "output_type": "stream",
     "text": [
      "Enter a nested list (e.g., [[1, 2], [], [3, 4], []]): [1,2],[],[4,8],[8,12],[]\n",
      "List after removing empty lists: [[1, 2], [4, 8], [8, 12]]\n"
     ]
    }
   ],
   "source": [
    "# Function to remove empty lists from a list\n",
    "def remove_empty_lists(lst):\n",
    "    return [sublist for sublist in lst if sublist]\n",
    "\n",
    "# Taking input from the user for the list\n",
    "# Inputting elements for the list, including empty lists\n",
    "nested_list = eval(input(\"Enter a nested list (e.g., [[1, 2], [], [3, 4], []]): \"))\n",
    "\n",
    "# Removing empty lists and displaying the result\n",
    "result = remove_empty_lists(nested_list)\n",
    "print(\"List after removing empty lists:\", result)"
   ]
  },
  {
   "cell_type": "markdown",
   "id": "278cfacc",
   "metadata": {},
   "source": [
    "### 10. Write a Python program to Cloning or Copying a list?"
   ]
  },
  {
   "cell_type": "code",
   "execution_count": 10,
   "id": "d078560b",
   "metadata": {},
   "outputs": [
    {
     "name": "stdout",
     "output_type": "stream",
     "text": [
      "Enter a list (e.g., [1, 2, 3]): [1,2,4,8,3,9]\n",
      "\n",
      "Original List: [1, 2, 4, 8, 3, 9]\n",
      "Cloned List: [1, 2, 4, 8, 3, 9]\n"
     ]
    }
   ],
   "source": [
    "# Function to Cloning or Copying\n",
    "def clone_list(original_list):\n",
    "    return original_list[:]\n",
    "\n",
    "# Taking input from the user for the original list\n",
    "# Inputting elements for the original list\n",
    "original_list = eval(input(\"Enter a list (e.g., [1, 2, 3]): \"))\n",
    "\n",
    "# Cloning the list and displaying the results\n",
    "cloned_list = clone_list(original_list)\n",
    "\n",
    "print(\"\\nOriginal List:\", original_list)\n",
    "print(\"Cloned List:\", cloned_list)"
   ]
  },
  {
   "cell_type": "markdown",
   "id": "b359bedf",
   "metadata": {},
   "source": [
    "### 11. Write a Python program to Count occurrences of an element in a list?"
   ]
  },
  {
   "cell_type": "code",
   "execution_count": 11,
   "id": "5763daf8",
   "metadata": {},
   "outputs": [
    {
     "name": "stdout",
     "output_type": "stream",
     "text": [
      "Enter a list (e.g., [1, 2, 3, 2, 4, 2]): [4,8,13215,132,35,13,2,5,48,45,132,132,53,132]\n",
      "Enter the element to count: 132\n",
      "\n",
      "The element 132 occurs 4 times in the list.\n"
     ]
    }
   ],
   "source": [
    "# Function to count occurrences of an element in a list\n",
    "def count_occurrences(lst, element):\n",
    "    return lst.count(element)\n",
    "\n",
    "# Taking input from the user for the list and the element to count\n",
    "# Inputting elements for the list\n",
    "original_list = eval(input(\"Enter a list (e.g., [1, 2, 3, 2, 4, 2]): \"))\n",
    "\n",
    "# Inputting the element to count\n",
    "element_to_count = eval(input(\"Enter the element to count: \"))\n",
    "\n",
    "# Counting occurrences of the element in the list and displaying the result\n",
    "result = count_occurrences(original_list, element_to_count)\n",
    "print(f\"\\nThe element {element_to_count} occurs {result} times in the list.\")"
   ]
  }
 ],
 "metadata": {
  "kernelspec": {
   "display_name": "Python 3",
   "language": "python",
   "name": "python3"
  },
  "language_info": {
   "codemirror_mode": {
    "name": "ipython",
    "version": 3
   },
   "file_extension": ".py",
   "mimetype": "text/x-python",
   "name": "python",
   "nbconvert_exporter": "python",
   "pygments_lexer": "ipython3",
   "version": "3.8.8"
  }
 },
 "nbformat": 4,
 "nbformat_minor": 5
}
