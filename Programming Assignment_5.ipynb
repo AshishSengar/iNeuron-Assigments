{
 "cells": [
  {
   "cell_type": "markdown",
   "id": "4ac9602a",
   "metadata": {},
   "source": [
    "## Python Basic Programming Assignment - 5\n",
    "--------------\n"
   ]
  },
  {
   "cell_type": "markdown",
   "id": "fdaeee06",
   "metadata": {},
   "source": [
    "### 1. Write a Python Program to Find LCM?"
   ]
  },
  {
   "cell_type": "code",
   "execution_count": 1,
   "id": "8a7afc74",
   "metadata": {},
   "outputs": [
    {
     "name": "stdout",
     "output_type": "stream",
     "text": [
      "Enter the first number: 48\n",
      "Enter the second number: 24\n",
      "The LCM of 48 and 24 is: 48\n"
     ]
    }
   ],
   "source": [
    "# Function to find the Greatest Common Divisor (GCD)\n",
    "def gcd(a, b):\n",
    "    while b:\n",
    "        a, b = b, a % b\n",
    "    return a\n",
    "\n",
    "# Function to find the LCM of two numbers\n",
    "def lcm(a, b):\n",
    "    return abs(a * b) // gcd(a, b) if a and b else 0\n",
    "\n",
    "# Taking input from the user\n",
    "num1 = int(input(\"Enter the first number: \"))\n",
    "num2 = int(input(\"Enter the second number: \"))\n",
    "\n",
    "# Calculating and displaying the LCM\n",
    "result = lcm(num1, num2)\n",
    "print(f\"The LCM of {num1} and {num2} is: {result}\")"
   ]
  },
  {
   "cell_type": "markdown",
   "id": "2f459cdf",
   "metadata": {},
   "source": [
    "### 2. Write a Python Program to Find HCF?"
   ]
  },
  {
   "cell_type": "code",
   "execution_count": 2,
   "id": "1d111133",
   "metadata": {},
   "outputs": [
    {
     "name": "stdout",
     "output_type": "stream",
     "text": [
      "Enter the first number: 48\n",
      "Enter the second number: 24\n",
      "The HCF/GCD of 48 and 24 is: 24\n"
     ]
    }
   ],
   "source": [
    "# Function to find the Greatest Common Divisor (GCD)\n",
    "def gcd(a, b):\n",
    "    while b:\n",
    "        a, b = b, a % b\n",
    "    return a\n",
    "\n",
    "# Taking input from the user\n",
    "num1 = int(input(\"Enter the first number: \"))\n",
    "num2 = int(input(\"Enter the second number: \"))\n",
    "\n",
    "# Calculating and displaying the HCF/GCD\n",
    "result = gcd(num1, num2)\n",
    "print(f\"The HCF/GCD of {num1} and {num2} is: {result}\")"
   ]
  },
  {
   "cell_type": "markdown",
   "id": "d2c29370",
   "metadata": {},
   "source": [
    "### 3. Write a Python Program to Convert Decimal to Binary, Octal and Hexadecimal?"
   ]
  },
  {
   "cell_type": "code",
   "execution_count": 4,
   "id": "78e996df",
   "metadata": {},
   "outputs": [
    {
     "name": "stdout",
     "output_type": "stream",
     "text": [
      "Enter a decimal number: 38\n",
      "\n",
      "Binary representation: 0b100110\n",
      "Octal representation: 0o46\n",
      "Hexadecimal representation: 0x26\n"
     ]
    }
   ],
   "source": [
    "# Taking input from the user\n",
    "decimal_number = int(input(\"Enter a decimal number: \"))\n",
    "\n",
    "# Converting to binary, octal, and hexadecimal\n",
    "binary_number = bin(decimal_number)\n",
    "octal_number = oct(decimal_number)\n",
    "hexadecimal_number = hex(decimal_number)\n",
    "\n",
    "# Displaying the results\n",
    "print(f\"\\nBinary representation: {binary_number}\")\n",
    "print(f\"Octal representation: {octal_number}\")\n",
    "print(f\"Hexadecimal representation: {hexadecimal_number}\")"
   ]
  },
  {
   "cell_type": "markdown",
   "id": "2a16c5fd",
   "metadata": {},
   "source": [
    "### 4. Write a Python Program To Find ASCII value of a character?"
   ]
  },
  {
   "cell_type": "code",
   "execution_count": 5,
   "id": "5e227662",
   "metadata": {},
   "outputs": [
    {
     "name": "stdout",
     "output_type": "stream",
     "text": [
      "Enter a character: h\n",
      "The ASCII value of 'h' is: 104\n"
     ]
    }
   ],
   "source": [
    "# Taking input from the user\n",
    "try:\n",
    "    char = input(\"Enter a character: \")\n",
    "\n",
    "    # Checking if the input is a single character\n",
    "    if len(char) == 1:\n",
    "        # Finding and displaying the ASCII value\n",
    "        ascii_value = ord(char)\n",
    "        print(f\"The ASCII value of '{char}' is: {ascii_value}\")\n",
    "    else:\n",
    "        print(\"Please enter a single character.\")\n",
    "except ValueError:\n",
    "    print(\"Invalid input. Please enter a valid character.\")"
   ]
  },
  {
   "cell_type": "markdown",
   "id": "226778a0",
   "metadata": {},
   "source": [
    "### 5. Write a Python Program to Make a Simple Calculator with 4 basic mathematical operations?"
   ]
  },
  {
   "cell_type": "code",
   "execution_count": 6,
   "id": "4c457ed4",
   "metadata": {},
   "outputs": [
    {
     "name": "stdout",
     "output_type": "stream",
     "text": [
      "Enter the first number: 12\n",
      "Enter the second number: 2\n",
      "14.0\n",
      "10.0\n",
      "24.0\n",
      "6.0\n"
     ]
    }
   ],
   "source": [
    "num1 = float(input(\"Enter the first number: \"))\n",
    "num2 = float(input(\"Enter the second number: \"))\n",
    "\n",
    "sum = num1 + num2\n",
    "diff = num1 - num2\n",
    "mult = num1 * num2\n",
    "div = num1 / num2\n",
    "\n",
    "print(sum)\n",
    "print(diff)\n",
    "print(mult)\n",
    "print(div)"
   ]
  }
 ],
 "metadata": {
  "kernelspec": {
   "display_name": "Python 3",
   "language": "python",
   "name": "python3"
  },
  "language_info": {
   "codemirror_mode": {
    "name": "ipython",
    "version": 3
   },
   "file_extension": ".py",
   "mimetype": "text/x-python",
   "name": "python",
   "nbconvert_exporter": "python",
   "pygments_lexer": "ipython3",
   "version": "3.8.8"
  }
 },
 "nbformat": 4,
 "nbformat_minor": 5
}
