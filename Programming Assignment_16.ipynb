{
 "cells": [
  {
   "cell_type": "markdown",
   "id": "e304dc88",
   "metadata": {},
   "source": [
    "## Python Basic Programming Assignment 16\n",
    "---------------------"
   ]
  },
  {
   "cell_type": "markdown",
   "id": "d82eeee0",
   "metadata": {},
   "source": [
    "### 1. Write a function that stutters a word as if someone is struggling to read it. The first two letters are repeated twice with an ellipsis ... and space after each, and then the word is pronounced with a question mark ?. Examples stutter('incredible') ➞ 'in... in... incredible?' stutter('enthusiastic') ➞ 'en... en... enthusiastic?' stutter('outstanding') ➞ 'ou... ou... outstanding?'\n",
    "\n",
    "### Hint :- Assume all input is in lower case and at least two characters long."
   ]
  },
  {
   "cell_type": "code",
   "execution_count": 1,
   "id": "af011d42",
   "metadata": {},
   "outputs": [
    {
     "name": "stdout",
     "output_type": "stream",
     "text": [
      "in... in... incredible?\n",
      "en... en... enthusiastic?\n",
      "ou... ou... outstanding?\n"
     ]
    }
   ],
   "source": [
    "def stutter(word):\n",
    "    stuttered_word = f\"{word[:2]}... {word[:2]}... {word}?\"\n",
    "    return stuttered_word\n",
    "\n",
    "# Examples\n",
    "print(stutter('incredible'))      # Output: 'in... in... incredible?'\n",
    "print(stutter('enthusiastic'))    # Output: 'en... en... enthusiastic?'\n",
    "print(stutter('outstanding'))     # Output: 'ou... ou... outstanding?'"
   ]
  },
  {
   "cell_type": "markdown",
   "id": "47e1bd41",
   "metadata": {},
   "source": [
    "\n",
    "### 2. Create a function that takes an angle in radians and returns the corresponding angle in degrees rounded to one decimal place."
   ]
  },
  {
   "cell_type": "code",
   "execution_count": 4,
   "id": "399b6c74",
   "metadata": {},
   "outputs": [
    {
     "name": "stdout",
     "output_type": "stream",
     "text": [
      "Enter the value of angle in radians: 15.2\n",
      "15.2 radians is approximately 870.9 degrees.\n"
     ]
    }
   ],
   "source": [
    "import math\n",
    "\n",
    "def radians_to_degrees(angle_radians):\n",
    "    angle_degrees = math.degrees(angle_radians)\n",
    "    rounded_angle = round(angle_degrees, 1)\n",
    "    return rounded_angle\n",
    "\n",
    "# Get user input\n",
    "angle_in_radians = float(input(\"Enter the value of angle in radians: \"))\n",
    "result = radians_to_degrees(angle_in_radians)\n",
    "print(f\"{angle_in_radians} radians is approximately {result} degrees.\")"
   ]
  },
  {
   "cell_type": "markdown",
   "id": "07cad4d9",
   "metadata": {},
   "source": [
    "\n",
    "### 3. In this challenge, establish if a given integer num is a Curzon number. If 1 plus 2 elevated to num is exactly divisible by 1 plus 2 multiplied by num, then num is a Curzon number. Given a non-negative integer num, implement a function that returns True if num is a Curzon number, or False otherwise."
   ]
  },
  {
   "cell_type": "code",
   "execution_count": 7,
   "id": "23785007",
   "metadata": {},
   "outputs": [
    {
     "name": "stdout",
     "output_type": "stream",
     "text": [
      "Enter a non-negative integer to check if it's a Curzon number: 45\n",
      "45 is not a Curzon number.\n"
     ]
    }
   ],
   "source": [
    "def is_curzon_number(num):\n",
    "    numerator = 2 ** num + 1\n",
    "    denominator = 2 * num + 1\n",
    "\n",
    "    return numerator % denominator == 0\n",
    "\n",
    "num = int(input(\"Enter a non-negative integer to check if it's a Curzon number: \"))\n",
    "if num < 0:\n",
    "    print(\"Please enter a non-negative integer.\")\n",
    "else:\n",
    "    result = is_curzon_number(num)\n",
    "    if result:\n",
    "        print(f\"{num} is a Curzon number.\")\n",
    "    else:\n",
    "        print(f\"{num} is not a Curzon number.\")"
   ]
  },
  {
   "cell_type": "markdown",
   "id": "cfad2cfc",
   "metadata": {},
   "source": [
    "\n",
    "### 4. Given the side length x find the area of a hexagon."
   ]
  },
  {
   "cell_type": "code",
   "execution_count": 8,
   "id": "db7fd0ac",
   "metadata": {},
   "outputs": [
    {
     "name": "stdout",
     "output_type": "stream",
     "text": [
      "Enter the side length of the hexagon: 8\n",
      "The area of a hexagon with side length 8.0 is approximately 166.28 square units.\n"
     ]
    }
   ],
   "source": [
    "import math\n",
    "\n",
    "def hexagon_area(side_length):\n",
    "    area = (3 * math.sqrt(3) / 2) * side_length ** 2\n",
    "    return area\n",
    "\n",
    "side_length = float(input(\"Enter the side length of the hexagon: \"))\n",
    "if side_length <= 0:\n",
    "    print(\"Please enter a positive side length.\")\n",
    "else:\n",
    "    result = hexagon_area(side_length)\n",
    "    print(f\"The area of a hexagon with side length {side_length} is approximately {result:.2f} square units.\")"
   ]
  },
  {
   "cell_type": "markdown",
   "id": "dbc79e02",
   "metadata": {},
   "source": [
    "\n",
    "### 5. Create a function that returns a base-2 (binary) representation of a base-10 (decimal) string number. To convert is simple: ((2) means base-2 and (10) means base-10) 010101001(2) = 1 + 8 + 32 + 128."
   ]
  },
  {
   "cell_type": "code",
   "execution_count": 10,
   "id": "b0b0e4f2",
   "metadata": {},
   "outputs": [
    {
     "name": "stdout",
     "output_type": "stream",
     "text": [
      "Enter a base-10 (decimal) number: 45\n",
      "The binary representation of 45 is 101101\n"
     ]
    }
   ],
   "source": [
    "def decimal_to_binary(decimal_number):\n",
    "    binary_representation = bin(int(decimal_number))[2:]\n",
    "    return binary_representation\n",
    "\n",
    "# Example\n",
    "decimal_number = input(\"Enter a base-10 (decimal) number: \")\n",
    "binary_result = decimal_to_binary(decimal_number)\n",
    "print(f\"The binary representation of {decimal_number} is {binary_result}\")"
   ]
  }
 ],
 "metadata": {
  "kernelspec": {
   "display_name": "Python 3",
   "language": "python",
   "name": "python3"
  },
  "language_info": {
   "codemirror_mode": {
    "name": "ipython",
    "version": 3
   },
   "file_extension": ".py",
   "mimetype": "text/x-python",
   "name": "python",
   "nbconvert_exporter": "python",
   "pygments_lexer": "ipython3",
   "version": "3.8.8"
  }
 },
 "nbformat": 4,
 "nbformat_minor": 5
}
