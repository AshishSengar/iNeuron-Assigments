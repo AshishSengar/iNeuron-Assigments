{
 "cells": [
  {
   "cell_type": "markdown",
   "id": "35297a20",
   "metadata": {},
   "source": [
    "## Programming Basic Assignment 7"
   ]
  },
  {
   "cell_type": "markdown",
   "id": "27349114",
   "metadata": {},
   "source": [
    "### 1. Write a Python Program to find sum of array?"
   ]
  },
  {
   "cell_type": "code",
   "execution_count": 2,
   "id": "de2256f8",
   "metadata": {},
   "outputs": [
    {
     "name": "stdout",
     "output_type": "stream",
     "text": [
      "Enter the array elements separated by space: 1 45 5 1 5 89 4 5 7 2\n",
      "The sum of the array is: 164\n"
     ]
    }
   ],
   "source": [
    "# Function to calculate the sum of elements in an array\n",
    "def array_sum(arr):\n",
    "    return sum(arr)\n",
    "\n",
    "# Taking input from the user for the array\n",
    "# Inputting space-separated integers and converting them to a list\n",
    "arr = list(map(int, input(\"Enter the array elements separated by space: \").split()))\n",
    "\n",
    "# Calculating and displaying the sum of the array\n",
    "result = array_sum(arr)\n",
    "print(f\"The sum of the array is: {result}\")"
   ]
  },
  {
   "cell_type": "markdown",
   "id": "171a980d",
   "metadata": {},
   "source": [
    "### 2. Write a Python Program to find largest element in an array?\n"
   ]
  },
  {
   "cell_type": "code",
   "execution_count": 3,
   "id": "18baa32b",
   "metadata": {},
   "outputs": [
    {
     "name": "stdout",
     "output_type": "stream",
     "text": [
      "Enter the array elements separated by space: 1 45 84 523 512 879 2451\n",
      "The largest element in the array is: 2451\n"
     ]
    }
   ],
   "source": [
    "# Function to find the largest element in an array\n",
    "def find_largest_element(arr):\n",
    "    if not arr:\n",
    "        return None  # Return None for an empty array\n",
    "    else:\n",
    "        return max(arr)\n",
    "\n",
    "# Taking input from the user for the array\n",
    "# Inputting space-separated integers and converting them to a list\n",
    "arr = list(map(int, input(\"Enter the array elements separated by space: \").split()))\n",
    "\n",
    "# Finding and displaying the largest element in the array\n",
    "result = find_largest_element(arr)\n",
    "    \n",
    "if result is not None:\n",
    "    print(f\"The largest element in the array is: {result}\")\n",
    "else:\n",
    "    print(\"The array is empty.\")"
   ]
  },
  {
   "cell_type": "markdown",
   "id": "21613246",
   "metadata": {},
   "source": [
    "### 3. Write a Python Program for array rotation?"
   ]
  },
  {
   "cell_type": "code",
   "execution_count": 4,
   "id": "d0ceae2e",
   "metadata": {},
   "outputs": [
    {
     "name": "stdout",
     "output_type": "stream",
     "text": [
      "Enter the array elements separated by space: 24 52 84 3215\n",
      "Enter the number of positions to rotate the array to the left: 2\n",
      "\n",
      "Rotated array after left rotation by 2 positions: [84, 3215, 24, 52]\n"
     ]
    }
   ],
   "source": [
    "# Function to rotate an array to the left by 'd' positions\n",
    "def rotate_array(arr, d):\n",
    "    n = len(arr)\n",
    "    d = d % n  # To handle cases where d is greater than the length of the array\n",
    "    return arr[d:] + arr[:d]\n",
    "\n",
    "# Taking input from the user for the array and rotation count\n",
    "# Inputting space-separated integers and converting them to a list\n",
    "arr = list(map(int, input(\"Enter the array elements separated by space: \").split()))\n",
    "    \n",
    "# Inputting the number of positions to rotate\n",
    "d = int(input(\"Enter the number of positions to rotate the array to the left: \"))\n",
    "\n",
    "# Rotating the array and displaying the result\n",
    "rotated_array = rotate_array(arr, d)\n",
    "print(f\"\\nRotated array after left rotation by {d} positions: {rotated_array}\")"
   ]
  },
  {
   "cell_type": "markdown",
   "id": "3e52d939",
   "metadata": {},
   "source": [
    "### 4. Write a Python Program to Split the array and add the first part to the end?"
   ]
  },
  {
   "cell_type": "code",
   "execution_count": 5,
   "id": "cf452ef0",
   "metadata": {},
   "outputs": [
    {
     "name": "stdout",
     "output_type": "stream",
     "text": [
      "Enter the array elements separated by space: 84 548 515321 121 5451\n",
      "Enter the position to split the array (1 to length of the array - 1): 3\n",
      "\n",
      "Array after splitting and adding the first part to the end: [121, 5451, 84, 548, 515321]\n"
     ]
    }
   ],
   "source": [
    "# Function to split the array and add the first part to the end\n",
    "def split_and_add(arr, k):\n",
    "    n = len(arr)\n",
    "    \n",
    "    # Checking if the array can be split\n",
    "    if 0 < k < n:\n",
    "        return arr[k:] + arr[:k]\n",
    "    else:\n",
    "        return \"Invalid split position. Please choose a position between 1 and the length of the array - 1.\"\n",
    "\n",
    "# Taking input from the user for the array and split position\n",
    "# Inputting space-separated integers and converting them to a list\n",
    "arr = list(map(int, input(\"Enter the array elements separated by space: \").split()))\n",
    "    \n",
    "# Inputting the position to split the array\n",
    "k = int(input(\"Enter the position to split the array (1 to length of the array - 1): \"))\n",
    "\n",
    "# Splitting the array and adding the first part to the end\n",
    "result = split_and_add(arr, k)\n",
    "    \n",
    "if isinstance(result, list):\n",
    "    print(f\"\\nArray after splitting and adding the first part to the end: {result}\")\n",
    "else:\n",
    "    print(result)"
   ]
  },
  {
   "cell_type": "markdown",
   "id": "aa375779",
   "metadata": {},
   "source": [
    "### 5. Write a Python Program to check if given array is Monotonic?"
   ]
  },
  {
   "cell_type": "code",
   "execution_count": 6,
   "id": "0998e93f",
   "metadata": {},
   "outputs": [
    {
     "name": "stdout",
     "output_type": "stream",
     "text": [
      "Enter the array elements separated by space: 231 523 8451 5 21 5489\n",
      "The array is not monotonic.\n"
     ]
    }
   ],
   "source": [
    "# Function to check if an array is monotonic\n",
    "def is_monotonic(arr):\n",
    "    increasing = decreasing = True\n",
    "    \n",
    "    # Checking if the array is non-increasing\n",
    "    for i in range(1, len(arr)):\n",
    "        if arr[i] > arr[i - 1]:\n",
    "            decreasing = False\n",
    "            break\n",
    "    \n",
    "    # Checking if the array is non-decreasing\n",
    "    for i in range(1, len(arr)):\n",
    "        if arr[i] < arr[i - 1]:\n",
    "            increasing = False\n",
    "            break\n",
    "    \n",
    "    return increasing or decreasing\n",
    "\n",
    "# Taking input from the user for the array\n",
    "# Inputting space-separated integers and converting them to a list\n",
    "arr = list(map(int, input(\"Enter the array elements separated by space: \").split()))\n",
    "\n",
    "# Checking if the array is monotonic and displaying the result\n",
    "result = is_monotonic(arr)\n",
    "if result:\n",
    "    print(\"The array is monotonic.\")\n",
    "else:\n",
    "    print(\"The array is not monotonic.\")"
   ]
  }
 ],
 "metadata": {
  "kernelspec": {
   "display_name": "Python 3",
   "language": "python",
   "name": "python3"
  },
  "language_info": {
   "codemirror_mode": {
    "name": "ipython",
    "version": 3
   },
   "file_extension": ".py",
   "mimetype": "text/x-python",
   "name": "python",
   "nbconvert_exporter": "python",
   "pygments_lexer": "ipython3",
   "version": "3.8.8"
  }
 },
 "nbformat": 4,
 "nbformat_minor": 5
}
