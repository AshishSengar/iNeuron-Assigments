{
 "cells": [
  {
   "cell_type": "markdown",
   "id": "637b47a5",
   "metadata": {},
   "source": [
    "## Programming Assignment_1\n",
    "-------------"
   ]
  },
  {
   "cell_type": "markdown",
   "id": "0c647dbe",
   "metadata": {},
   "source": [
    "### 1. Write a Python program to print \"Hello Python\"?"
   ]
  },
  {
   "cell_type": "code",
   "execution_count": 1,
   "id": "39aab5d1",
   "metadata": {},
   "outputs": [
    {
     "name": "stdout",
     "output_type": "stream",
     "text": [
      "Hello Python\n"
     ]
    }
   ],
   "source": [
    "print(\"Hello Python\")"
   ]
  },
  {
   "cell_type": "markdown",
   "id": "fc18a6cd",
   "metadata": {},
   "source": [
    "### 2. Write a Python program to do arithmetical operations addition and division.?\n"
   ]
  },
  {
   "cell_type": "code",
   "execution_count": 3,
   "id": "a1348e93",
   "metadata": {},
   "outputs": [
    {
     "name": "stdout",
     "output_type": "stream",
     "text": [
      "Enter the first number: 25\n",
      "Enter the second number: 5\n",
      "Sum of 25.0 and 5.0 is: 30.0\n",
      "Division of 25.0 by 5.0 is: 5.0\n"
     ]
    }
   ],
   "source": [
    "# Get user input for two numbers\n",
    "num1 = float(input(\"Enter the first number: \"))\n",
    "num2 = float(input(\"Enter the second number: \"))\n",
    "\n",
    "# Perform addition and division\n",
    "sum_result = (num1 + num2)\n",
    "division_result = (num1 / num2)\n",
    "\n",
    "# Display the results\n",
    "print(f\"Sum of {num1} and {num2} is: {sum_result}\")\n",
    "print(f\"Division of {num1} by {num2} is: {division_result}\")"
   ]
  },
  {
   "cell_type": "markdown",
   "id": "af6e2429",
   "metadata": {},
   "source": [
    "### 3. Write a Python program to find the area of a triangle?\n"
   ]
  },
  {
   "cell_type": "code",
   "execution_count": 4,
   "id": "a0b996d5",
   "metadata": {},
   "outputs": [
    {
     "name": "stdout",
     "output_type": "stream",
     "text": [
      "Enter the base of triangle: 10\n",
      "Enter the height of triangle: 8\n",
      "Area of triangle of base 10.0 and height 8.0 is: 40.0\n"
     ]
    }
   ],
   "source": [
    "# Get user input for two numbers\n",
    "num1 = float(input(\"Enter the base of triangle: \"))\n",
    "num2 = float(input(\"Enter the height of triangle: \"))\n",
    "\n",
    "# Perform area of triangle\n",
    "Area_of_triangle = (1/2)* num1 * num2\n",
    "\n",
    "# Display the results\n",
    "print(f\"Area of triangle of base {num1} and height {num2} is: {Area_of_triangle}\")"
   ]
  },
  {
   "cell_type": "markdown",
   "id": "b8140061",
   "metadata": {},
   "source": [
    "### 4. Write a Python program to swap two variables?\n"
   ]
  },
  {
   "cell_type": "code",
   "execution_count": 5,
   "id": "f3b0f8ec",
   "metadata": {},
   "outputs": [
    {
     "name": "stdout",
     "output_type": "stream",
     "text": [
      "Enter the value of variable 1: 12\n",
      "Enter the value of variable 2: 45\n",
      "Before swapping: Variable 1 = 12, Variable 2 = 45\n",
      "After swapping: Variable 1 = 45, Variable 2 = 12\n"
     ]
    }
   ],
   "source": [
    "# Get user input for two variables\n",
    "var1 = input(\"Enter the value of variable 1: \")\n",
    "var2 = input(\"Enter the value of variable 2: \")\n",
    "\n",
    "# Display the values before swapping\n",
    "print(f\"Before swapping: Variable 1 = {var1}, Variable 2 = {var2}\")\n",
    "\n",
    "# Swap the values\n",
    "var1, var2 = var2, var1\n",
    "\n",
    "# Display the values after swapping\n",
    "print(f\"After swapping: Variable 1 = {var1}, Variable 2 = {var2}\")"
   ]
  },
  {
   "cell_type": "markdown",
   "id": "3f8054c1",
   "metadata": {},
   "source": [
    "### 5. Write a Python program to generate a random number?\n"
   ]
  },
  {
   "cell_type": "code",
   "execution_count": 6,
   "id": "c5072464",
   "metadata": {},
   "outputs": [
    {
     "name": "stdout",
     "output_type": "stream",
     "text": [
      "Enter the lower limit of the range: 15\n",
      "Enter the upper limit of the range: 98\n",
      "Random number between 15 and 98: 95\n"
     ]
    }
   ],
   "source": [
    "import random\n",
    "\n",
    "# Get user input for the range\n",
    "lower_limit = int(input(\"Enter the lower limit of the range: \"))\n",
    "upper_limit = int(input(\"Enter the upper limit of the range: \"))\n",
    "\n",
    "# Generate a random number within the specified range\n",
    "random_number = random.randint(lower_limit, upper_limit)\n",
    "\n",
    "# Display the random number\n",
    "print(f\"Random number between {lower_limit} and {upper_limit}: {random_number}\")"
   ]
  }
 ],
 "metadata": {
  "kernelspec": {
   "display_name": "Python 3",
   "language": "python",
   "name": "python3"
  },
  "language_info": {
   "codemirror_mode": {
    "name": "ipython",
    "version": 3
   },
   "file_extension": ".py",
   "mimetype": "text/x-python",
   "name": "python",
   "nbconvert_exporter": "python",
   "pygments_lexer": "ipython3",
   "version": "3.8.8"
  }
 },
 "nbformat": 4,
 "nbformat_minor": 5
}
